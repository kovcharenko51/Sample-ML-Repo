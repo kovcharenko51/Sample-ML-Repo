{
 "cells": [
  {
   "cell_type": "markdown",
   "metadata": {
    "id": "EADmNKm_ucFI"
   },
   "source": [
    "## Homework"
   ]
  },
  {
   "cell_type": "code",
   "execution_count": 1,
   "metadata": {
    "id": "wjurpt4KJmCh",
    "scrolled": true
   },
   "outputs": [
    {
     "name": "stdout",
     "output_type": "stream",
     "text": [
      "--2022-05-11 21:13:21--  https://docs.google.com/uc?export=download&id=1OKFSv2GpuUFDphO0r8LdM7bl6MAWwBfX\n",
      "Resolving docs.google.com (docs.google.com)... 142.251.1.194, 2a00:1450:4010:c1e::c2\n",
      "Connecting to docs.google.com (docs.google.com)|142.251.1.194|:443... connected.\n",
      "HTTP request sent, awaiting response... 303 See Other\n",
      "Location: https://doc-04-ak-docs.googleusercontent.com/docs/securesc/ha0ro937gcuc7l7deffksulhg5h7mbp1/lulbf3mbf4s26a4pj119ck9p5dfbcc7l/1652292750000/03856158561714992485/*/1OKFSv2GpuUFDphO0r8LdM7bl6MAWwBfX?e=download [following]\n",
      "Warning: wildcards not supported in HTTP.\n",
      "--2022-05-11 21:13:22--  https://doc-04-ak-docs.googleusercontent.com/docs/securesc/ha0ro937gcuc7l7deffksulhg5h7mbp1/lulbf3mbf4s26a4pj119ck9p5dfbcc7l/1652292750000/03856158561714992485/*/1OKFSv2GpuUFDphO0r8LdM7bl6MAWwBfX?e=download\n",
      "Resolving doc-04-ak-docs.googleusercontent.com (doc-04-ak-docs.googleusercontent.com)... 64.233.161.132, 2a00:1450:4010:c01::84\n",
      "Connecting to doc-04-ak-docs.googleusercontent.com (doc-04-ak-docs.googleusercontent.com)|64.233.161.132|:443... connected.\n",
      "HTTP request sent, awaiting response... 200 OK\n",
      "Length: 33322228 (32M) [text/csv]\n",
      "Saving to: ‘data.csv’\n",
      "\n",
      "data.csv            100%[===================>]  31,78M  3,72MB/s    in 8,3s    \n",
      "\n",
      "2022-05-11 21:13:31 (3,85 MB/s) - ‘data.csv’ saved [33322228/33322228]\n",
      "\n"
     ]
    }
   ],
   "source": [
    "!wget --no-check-certificate 'https://docs.google.com/uc?export=download&id=1OKFSv2GpuUFDphO0r8LdM7bl6MAWwBfX' -O data.csv"
   ]
  },
  {
   "cell_type": "code",
   "execution_count": 2,
   "metadata": {},
   "outputs": [],
   "source": [
    "import warnings\n",
    "warnings.filterwarnings('ignore')"
   ]
  },
  {
   "cell_type": "markdown",
   "metadata": {
    "id": "UBAI5LS2xBSm"
   },
   "source": [
    "В этой домашней работе вы будете предсказывать стоимость домов по их характеристикам.\n",
    "\n",
    "Метрика качества: `RMSE`\n",
    "\n",
    "Оценивание:\n",
    "* Baseline - 2 балла\n",
    "* Feature Engineering - 2 балла\n",
    "* Model Selection - 3 балла\n",
    "* Ensemble v.1 - 3 балла\n",
    "* (*) Ensemble v.2 - дополнительно, 2 балла"
   ]
  },
  {
   "cell_type": "markdown",
   "metadata": {
    "id": "aBZhr_dw6HAn"
   },
   "source": [
    "### Описание датасета\n",
    "\n",
    "Короткое описание данных:\n",
    "```\n",
    "price: sale price (this is the target variable)\n",
    "id: transaction id\n",
    "timestamp: date of transaction\n",
    "full_sq: total area in square meters, including loggias, balconies and other non-residential areas\n",
    "life_sq: living area in square meters, excluding loggias, balconies and other non-residential areas\n",
    "floor: for apartments, floor of the building\n",
    "max_floor: number of floors in the building\n",
    "material: wall material\n",
    "build_year: year built\n",
    "num_room: number of living rooms\n",
    "kitch_sq: kitchen area\n",
    "state: apartment condition\n",
    "product_type: owner-occupier purchase or investment\n",
    "sub_area: name of the district\n",
    "\n",
    "The dataset also includes a collection of features about each property's surrounding neighbourhood, and some features that are constant across each sub area (known as a Raion). Most of the feature names are self explanatory, with the following notes. See below for a complete list.\n",
    "\n",
    "full_all: subarea population\n",
    "male_f, female_f: subarea population by gender\n",
    "young_*: population younger than working age\n",
    "work_*: working-age population\n",
    "ekder_*: retirement-age population\n",
    "n_m_{all|male|female}: population between n and m years old\n",
    "build_count_*: buildings in the subarea by construction type or year\n",
    "x_count_500: the number of x within 500m of the property\n",
    "x_part_500: the share of x within 500m of the property\n",
    "_sqm_: square meters\n",
    "cafe_count_d_price_p: number of cafes within d meters of the property that have an average bill under p RUB\n",
    "trc_: shopping malls\n",
    "prom_: industrial zones\n",
    "green_: green zones\n",
    "metro_: subway\n",
    "_avto_: distances by car\n",
    "mkad_: Moscow Circle Auto Road\n",
    "ttk_: Third Transport Ring\n",
    "sadovoe_: Garden Ring\n",
    "bulvar_ring_: Boulevard Ring\n",
    "kremlin_: City center\n",
    "zd_vokzaly_: Train station\n",
    "oil_chemistry_: Dirty industry\n",
    "ts_: Power plant\n",
    "```"
   ]
  },
  {
   "cell_type": "markdown",
   "metadata": {
    "id": "TOPtM_06uyqv"
   },
   "source": [
    "### Setup"
   ]
  },
  {
   "cell_type": "code",
   "execution_count": 3,
   "metadata": {
    "id": "9TpHMcn3u0MV"
   },
   "outputs": [],
   "source": [
    "import pandas as pd\n",
    "import numpy as np"
   ]
  },
  {
   "cell_type": "code",
   "execution_count": 4,
   "metadata": {
    "id": "-TLkVG3EwJzj"
   },
   "outputs": [],
   "source": [
    "df = pd.read_csv(\"data.csv\", parse_dates=[\"timestamp\"])"
   ]
  },
  {
   "cell_type": "markdown",
   "metadata": {
    "id": "znjwH9_mx3fZ"
   },
   "source": [
    "Разделите имеющиеся у вас данные на обучающую и тестовую выборки. В качестве обучающей выборки возьмите первые 80% данных, последние 20% - тестовая выборка."
   ]
  },
  {
   "cell_type": "code",
   "execution_count": 5,
   "metadata": {
    "id": "hwfNR565wMKN"
   },
   "outputs": [],
   "source": [
    "from sklearn.model_selection import train_test_split\n",
    "\n",
    "\n",
    "train, test = train_test_split(df, test_size=0.2, random_state=42)"
   ]
  },
  {
   "cell_type": "markdown",
   "metadata": {
    "id": "pL4dJJwZP86w"
   },
   "source": [
    "Возможно в ваших моделях вам придется указывать, какие колонки являются категориальными (например, в бустингах). Для упрощения предлагается разделить колонки по следующему принципу:"
   ]
  },
  {
   "cell_type": "code",
   "execution_count": 6,
   "metadata": {},
   "outputs": [],
   "source": [
    "drop_columns = [\n",
    "    'id',           # May leak information\n",
    "    'timestamp',    # May leak information\n",
    "]\n",
    "cat_columns = [\n",
    "    'product_type',              #\n",
    "    'material',                  # Material of the wall\n",
    "    'state',                     # Satisfaction level\n",
    "    'sub_area',                  # District name\n",
    "    'culture_objects_top_25',    #\n",
    "    'thermal_power_plant_raion', #\n",
    "    'incineration_raion',        #\n",
    "    'oil_chemistry_raion',       #\n",
    "    'radiation_raion',           #\n",
    "    'railroad_terminal_raion',   #\n",
    "    'big_market_raion',          #\n",
    "    'nuclear_reactor_raion',     #\n",
    "    'detention_facility_raion',  #\n",
    "    'ID_metro',                  #\n",
    "    'ID_railroad_station_walk',  #\n",
    "    'ID_railroad_station_avto',  #\n",
    "    'water_1line',               #\n",
    "    'ID_big_road1',              #\n",
    "    'big_road1_1line',           #\n",
    "    'ID_big_road2',              #\n",
    "    'railroad_1line',            #\n",
    "    'ID_railroad_terminal',      #\n",
    "    'ID_bus_terminal',           #\n",
    "    'ecology',                   #\n",
    "]\n",
    "num_columns = list(set(df.columns).difference(set(cat_columns + drop_columns)))\n",
    "\n",
    "target = 'price'"
   ]
  },
  {
   "cell_type": "code",
   "execution_count": 7,
   "metadata": {},
   "outputs": [],
   "source": [
    "X_train = train[cat_columns + num_columns]\n",
    "y_train = train[target]\n",
    "\n",
    "X_test = test[cat_columns + num_columns]\n",
    "y_test = test[target]"
   ]
  },
  {
   "cell_type": "markdown",
   "metadata": {},
   "source": [
    "Среди категориальных признаков есть те, которые имеют строковый тип. В таком виде данные использовать не получится, поэтому закодируем их с помощью OneHotEncoder:"
   ]
  },
  {
   "cell_type": "code",
   "execution_count": 8,
   "metadata": {},
   "outputs": [],
   "source": [
    "from sklearn.preprocessing import OneHotEncoder\n",
    "\n",
    "encoder = OneHotEncoder(handle_unknown='ignore', drop='first')\n",
    "X_train = encoder.fit_transform(X_train)\n",
    "\n",
    "X_test = encoder.transform(X_test)"
   ]
  },
  {
   "cell_type": "markdown",
   "metadata": {
    "id": "oiOby6hNu92W"
   },
   "source": [
    "### Baseline (2 балла)\n",
    "\n",
    "В качестве Baseline обучите `DecisionTreeRegressor` из `sklearn`."
   ]
  },
  {
   "cell_type": "code",
   "execution_count": 9,
   "metadata": {
    "id": "gJIDf3kn1Wfv"
   },
   "outputs": [],
   "source": [
    "from sklearn.tree import DecisionTreeRegressor\n",
    "\n",
    "reg = DecisionTreeRegressor(max_depth=2, random_state=42).fit(X_train, y_train)"
   ]
  },
  {
   "cell_type": "markdown",
   "metadata": {
    "id": "XUC7NFhw1X41"
   },
   "source": [
    "Проверьте качество на отложенной выборке."
   ]
  },
  {
   "cell_type": "code",
   "execution_count": 10,
   "metadata": {
    "id": "O_LCiQIN1bzD"
   },
   "outputs": [
    {
     "data": {
      "text/plain": [
       "4075756.2236529705"
      ]
     },
     "execution_count": 10,
     "metadata": {},
     "output_type": "execute_result"
    }
   ],
   "source": [
    "from sklearn.metrics import mean_squared_error\n",
    "\n",
    "y_preds = reg.predict(X_test)\n",
    "\n",
    "mean_squared_error(y_test, y_preds, squared=False)"
   ]
  },
  {
   "cell_type": "markdown",
   "metadata": {
    "id": "3bezBBI7u_oF"
   },
   "source": [
    "### Feature Engineering (2 балла)\n",
    "\n",
    "Часто улучшить модель можно с помощью аккуратного Feature Engineering.\n",
    "\n",
    "Добавим в модель дополнительные признаки:\n",
    "* \"Как часто в этот год и этот месяц появлились объявления\"\n",
    "* \"Как часто в этот год и эту неделю появлялись объявления\""
   ]
  },
  {
   "cell_type": "code",
   "execution_count": 11,
   "metadata": {
    "id": "_cJ6SBqUKC4C"
   },
   "outputs": [],
   "source": [
    "month_year = (df.timestamp.dt.month + df.timestamp.dt.year * 100)\n",
    "month_year_cnt_map = month_year.value_counts().to_dict()\n",
    "df[\"month_year_cnt\"] = month_year.map(month_year_cnt_map)\n",
    "\n",
    "week_year = (df.timestamp.dt.weekofyear + df.timestamp.dt.year * 100)\n",
    "week_year_cnt_map = week_year.value_counts().to_dict()\n",
    "df[\"week_year_cnt\"] = week_year.map(week_year_cnt_map)"
   ]
  },
  {
   "cell_type": "markdown",
   "metadata": {
    "id": "pCajk45_KDSz"
   },
   "source": [
    "Добавьте следюущие дополнительные признаки:\n",
    "* Месяц (из колонки `timestamp`)\n",
    "* День недели (из колонки `timestamp`)\n",
    "* Отношение \"этаж / максимальный этаж в здании\" (колонки `floor` и `max_floor`)\n",
    "* Отношение \"площадь кухни / площадь квартиры\" (колонки `kitchen_sq` и `full_sq`)\n",
    "\n",
    "По желанию можно добавить и другие признаки."
   ]
  },
  {
   "cell_type": "code",
   "execution_count": 12,
   "metadata": {
    "id": "dXZkoUL8Kve6"
   },
   "outputs": [],
   "source": [
    "df['month'] = df['timestamp'].dt.month\n",
    "df['weekday'] = df['timestamp'].dt.weekday\n",
    "\n",
    "df['floor_to_max_floor'] = df['floor'] / df['max_floor']\n",
    "df['kitchen_square_frac'] = df['kitch_sq'] / df['full_sq']"
   ]
  },
  {
   "cell_type": "markdown",
   "metadata": {},
   "source": [
    "Попробуем добавить признак, содержащий данные об отношении доли зеленых зон к доле промышленных зон:"
   ]
  },
  {
   "cell_type": "code",
   "execution_count": 13,
   "metadata": {},
   "outputs": [],
   "source": [
    "df['green_frac'] = df['green_part_500'] / df['prom_part_500']"
   ]
  },
  {
   "cell_type": "markdown",
   "metadata": {
    "id": "_-jCowvWLiXZ"
   },
   "source": [
    "Разделите выборку на обучающую и тестовую еще раз (потому что дополнительные признаки созданы для исходной выборки)."
   ]
  },
  {
   "cell_type": "code",
   "execution_count": 14,
   "metadata": {},
   "outputs": [],
   "source": [
    "train, test = train_test_split(df, test_size=0.2, random_state=42)\n",
    "\n",
    "X_train = train[cat_columns + num_columns]\n",
    "y_train = train[target]\n",
    "\n",
    "X_test = test[cat_columns + num_columns]\n",
    "y_test = test[target]"
   ]
  },
  {
   "cell_type": "code",
   "execution_count": 15,
   "metadata": {},
   "outputs": [],
   "source": [
    "encoder = OneHotEncoder(drop='first', handle_unknown='ignore')\n",
    "X_train = encoder.fit_transform(X_train)\n",
    "\n",
    "X_test = encoder.transform(X_test)"
   ]
  },
  {
   "cell_type": "markdown",
   "metadata": {
    "id": "CPtzkpFEvBw9"
   },
   "source": [
    "### Model Selection (3 балла)\n",
    "\n",
    "Посмотрите, какого качества можно добиться если использовать разные модели:\n",
    "* `DecisionTreeRegressor` из `sklearn`\n",
    "* `RandomForestRegressor` из `sklearn`\n",
    "* `CatBoostRegressor`\n",
    "\n",
    "Также вы можете попробовать линейные модели, другие бустинги (`LigthGBM` и `XGBoost`).\n",
    "\n",
    "Почти все библиотеки поддерживают удобный способ подбора гиперпараметров: посмотрите как это делать в [sklearn](https://scikit-learn.org/stable/modules/generated/sklearn.model_selection.GridSearchCV.html) или в [catboost](https://catboost.ai/docs/concepts/python-reference_catboostregressor_grid_search.html).\n",
    "\n",
    "Проверяйте качество каждой модели на тестовой выборке и выберите наилучшую."
   ]
  },
  {
   "cell_type": "code",
   "execution_count": 16,
   "metadata": {
    "id": "PZstXx6uNRfE"
   },
   "outputs": [],
   "source": [
    "tree = DecisionTreeRegressor(max_depth=2, random_state=42).fit(X_train, y_train)\n",
    "\n",
    "tree_preds = tree.predict(X_test)"
   ]
  },
  {
   "cell_type": "code",
   "execution_count": 17,
   "metadata": {},
   "outputs": [],
   "source": [
    "from sklearn.ensemble import RandomForestRegressor\n",
    "\n",
    "forest = RandomForestRegressor(n_estimators=50, max_depth=2, random_state=42).fit(X_train, y_train)\n",
    "\n",
    "forest_preds = forest.predict(X_test)"
   ]
  },
  {
   "cell_type": "code",
   "execution_count": 18,
   "metadata": {},
   "outputs": [
    {
     "name": "stdout",
     "output_type": "stream",
     "text": [
      "Learning rate set to 0.5\n",
      "0:\tlearn: 4397023.9608107\ttotal: 239ms\tremaining: 239ms\n",
      "1:\tlearn: 4216659.9214687\ttotal: 391ms\tremaining: 0us\n"
     ]
    }
   ],
   "source": [
    "from catboost import CatBoostRegressor, Pool\n",
    "\n",
    "train_dataset = Pool(X_train, y_train) \n",
    "test_dataset = Pool(X_test, y_test)\n",
    "\n",
    "cb = CatBoostRegressor(loss_function='RMSE', iterations=2, depth=2)\n",
    "cb.fit(train_dataset)\n",
    "\n",
    "cb_preds = cb.predict(test_dataset)"
   ]
  },
  {
   "cell_type": "code",
   "execution_count": 19,
   "metadata": {},
   "outputs": [
    {
     "name": "stdout",
     "output_type": "stream",
     "text": [
      "DecisionTreeRegressor: 4075756.2236529705\n",
      "RandomForestRegressor: 4067791.259494771\n",
      "CatBoostRegressor: 4000875.9672940834\n"
     ]
    }
   ],
   "source": [
    "print('DecisionTreeRegressor:', mean_squared_error(y_test, tree_preds, squared=False))\n",
    "print('RandomForestRegressor:', mean_squared_error(y_test, forest_preds, squared=False))\n",
    "print('CatBoostRegressor:', mean_squared_error(y_test, cb_preds, squared=False))"
   ]
  },
  {
   "cell_type": "markdown",
   "metadata": {},
   "source": [
    "С параметрами по умолчанию CatBoost показывает лучшие результаты. Попробуем подобрать оптимальные гиперпараметры для всех моделей:"
   ]
  },
  {
   "cell_type": "code",
   "execution_count": 20,
   "metadata": {},
   "outputs": [
    {
     "data": {
      "text/plain": [
       "GridSearchCV(estimator=DecisionTreeRegressor(random_state=42), n_jobs=-1,\n",
       "             param_grid={'max_depth': array([2, 3, 4]),\n",
       "                         'min_samples_leaf': array([10, 12, 14, 16, 18]),\n",
       "                         'min_samples_split': array([10, 20, 30, 40])})"
      ]
     },
     "execution_count": 20,
     "metadata": {},
     "output_type": "execute_result"
    }
   ],
   "source": [
    "from sklearn.model_selection import GridSearchCV\n",
    "\n",
    "reg = DecisionTreeRegressor(random_state=42)\n",
    "\n",
    "params = {\n",
    "          'max_depth': np.arange(2, 5), \n",
    "          'min_samples_leaf': np.arange(10, 20, 2),\n",
    "          'min_samples_split': np.arange(10, 50, 10)\n",
    "         }\n",
    "\n",
    "tree = GridSearchCV(reg, params, n_jobs=-1)\n",
    "tree.fit(X_train, y_train)"
   ]
  },
  {
   "cell_type": "code",
   "execution_count": 21,
   "metadata": {},
   "outputs": [
    {
     "name": "stdout",
     "output_type": "stream",
     "text": [
      "DecisionTreeRegressor: 3869262.753494675\n"
     ]
    }
   ],
   "source": [
    "tree_preds = tree.predict(X_test)\n",
    "print('DecisionTreeRegressor:', mean_squared_error(y_test, tree_preds, squared=False))"
   ]
  },
  {
   "cell_type": "code",
   "execution_count": 22,
   "metadata": {},
   "outputs": [
    {
     "data": {
      "text/plain": [
       "GridSearchCV(estimator=RandomForestRegressor(max_features='log2',\n",
       "                                             n_estimators=50, random_state=42),\n",
       "             param_grid={'max_depth': array([2, 3, 4]),\n",
       "                         'min_samples_leaf': array([10, 12, 14, 16, 18]),\n",
       "                         'min_samples_split': array([10, 20, 30, 40])})"
      ]
     },
     "execution_count": 22,
     "metadata": {},
     "output_type": "execute_result"
    }
   ],
   "source": [
    "reg = RandomForestRegressor(random_state=42, max_features='log2', n_estimators=50)\n",
    "\n",
    "params = {\n",
    "          'max_depth': np.arange(2, 5), \n",
    "          'min_samples_leaf': np.arange(10, 20, 2),\n",
    "          'min_samples_split': np.arange(10, 50, 10)\n",
    "         }\n",
    "\n",
    "forest = GridSearchCV(reg, params)\n",
    "forest.fit(X_train, y_train)"
   ]
  },
  {
   "cell_type": "code",
   "execution_count": 23,
   "metadata": {},
   "outputs": [
    {
     "name": "stdout",
     "output_type": "stream",
     "text": [
      "DecisionTreeRegressor: 4455207.710311234\n"
     ]
    }
   ],
   "source": [
    "forest_preds = forest.predict(X_test)\n",
    "print('DecisionTreeRegressor:', mean_squared_error(y_test, forest_preds, squared=False))"
   ]
  },
  {
   "cell_type": "code",
   "execution_count": 24,
   "metadata": {
    "scrolled": true
   },
   "outputs": [
    {
     "name": "stdout",
     "output_type": "stream",
     "text": [
      "0:\tlearn: 8505770.9055024\ttest: 8332932.6820071\tbest: 8332932.6820071 (0)\ttotal: 104ms\tremaining: 104ms\n",
      "1:\tlearn: 8447487.9631436\ttest: 8273696.4862661\tbest: 8273696.4862661 (1)\ttotal: 279ms\tremaining: 0us\n",
      "\n",
      "bestTest = 8273696.486\n",
      "bestIteration = 1\n",
      "\n",
      "0:\tloss: 8273696.4862661\tbest: 8273696.4862661 (0)\ttotal: 14s\tremaining: 20m 45s\n",
      "0:\tlearn: 8466404.8406850\ttest: 8292929.9416744\tbest: 8292929.9416744 (0)\ttotal: 101ms\tremaining: 101ms\n",
      "1:\tlearn: 8370149.8681160\ttest: 8195079.7284963\tbest: 8195079.7284963 (1)\ttotal: 297ms\tremaining: 0us\n",
      "\n",
      "bestTest = 8195079.728\n",
      "bestIteration = 1\n",
      "\n",
      "1:\tloss: 8195079.7284963\tbest: 8195079.7284963 (1)\ttotal: 14.6s\tremaining: 10m 42s\n",
      "0:\tlearn: 8400926.8630426\ttest: 8226380.2566372\tbest: 8226380.2566372 (0)\ttotal: 78.7ms\tremaining: 78.7ms\n",
      "1:\tlearn: 8242457.2287865\ttest: 8065626.1622131\tbest: 8065626.1622131 (1)\ttotal: 238ms\tremaining: 0us\n",
      "\n",
      "bestTest = 8065626.162\n",
      "bestIteration = 1\n",
      "\n",
      "2:\tloss: 8065626.1622131\tbest: 8065626.1622131 (2)\ttotal: 15.1s\tremaining: 7m 18s\n",
      "0:\tlearn: 8292241.2143087\ttest: 8115879.7886635\tbest: 8115879.7886635 (0)\ttotal: 129ms\tremaining: 129ms\n",
      "1:\tlearn: 8035391.2609046\ttest: 7855195.0115222\tbest: 7855195.0115222 (1)\ttotal: 341ms\tremaining: 0us\n",
      "\n",
      "bestTest = 7855195.012\n",
      "bestIteration = 1\n",
      "\n",
      "3:\tloss: 7855195.0115222\tbest: 7855195.0115222 (3)\ttotal: 15.8s\tremaining: 5m 40s\n",
      "0:\tlearn: 8112505.6712046\ttest: 7933040.7061014\tbest: 7933040.7061014 (0)\ttotal: 92.2ms\tremaining: 92.2ms\n",
      "1:\tlearn: 7704975.0788758\ttest: 7519065.1489425\tbest: 7519065.1489425 (1)\ttotal: 282ms\tremaining: 0us\n",
      "\n",
      "bestTest = 7519065.149\n",
      "bestIteration = 1\n",
      "\n",
      "4:\tloss: 7519065.1489425\tbest: 7519065.1489425 (4)\ttotal: 16.4s\tremaining: 4m 38s\n",
      "0:\tlearn: 7817363.7707614\ttest: 7632506.8080334\tbest: 7632506.8080334 (0)\ttotal: 92.9ms\tremaining: 92.9ms\n",
      "1:\tlearn: 7196010.1662036\ttest: 7000373.7738104\tbest: 7000373.7738104 (1)\ttotal: 295ms\tremaining: 0us\n",
      "\n",
      "bestTest = 7000373.774\n",
      "bestIteration = 1\n",
      "\n",
      "5:\tloss: 7000373.7738104\tbest: 7000373.7738104 (5)\ttotal: 17s\tremaining: 3m 57s\n",
      "0:\tlearn: 7339746.5216073\ttest: 7145293.9386027\tbest: 7145293.9386027 (0)\ttotal: 84.3ms\tremaining: 84.3ms\n",
      "1:\tlearn: 6465975.3748394\ttest: 6254084.8466346\tbest: 6254084.8466346 (1)\ttotal: 288ms\tremaining: 0us\n",
      "\n",
      "bestTest = 6254084.847\n",
      "bestIteration = 1\n",
      "\n",
      "6:\tloss: 6254084.8466346\tbest: 6254084.8466346 (6)\ttotal: 17.6s\tremaining: 3m 28s\n",
      "0:\tlearn: 6593556.6078212\ttest: 6381535.5537540\tbest: 6381535.5537540 (0)\ttotal: 89.9ms\tremaining: 89.9ms\n",
      "1:\tlearn: 5482800.9504366\ttest: 5256263.2526161\tbest: 5256263.2526161 (1)\ttotal: 302ms\tremaining: 0us\n",
      "\n",
      "bestTest = 5256263.253\n",
      "bestIteration = 1\n",
      "\n",
      "7:\tloss: 5256263.2526161\tbest: 5256263.2526161 (7)\ttotal: 18.1s\tremaining: 3m 6s\n",
      "0:\tlearn: 5550118.4908339\ttest: 5306821.2119071\tbest: 5306821.2119071 (0)\ttotal: 92.2ms\tremaining: 92.2ms\n",
      "1:\tlearn: 4643823.5689150\ttest: 4420588.4777776\tbest: 4420588.4777776 (1)\ttotal: 275ms\tremaining: 0us\n",
      "\n",
      "bestTest = 4420588.478\n",
      "bestIteration = 1\n",
      "\n",
      "8:\tloss: 4420588.4777776\tbest: 4420588.4777776 (8)\ttotal: 18.7s\tremaining: 2m 48s\n",
      "0:\tlearn: 4760967.8444292\ttest: 4495337.1418507\tbest: 4495337.1418507 (0)\ttotal: 90.2ms\tremaining: 90.2ms\n",
      "1:\tlearn: 4326015.2945664\ttest: 4122605.4011763\tbest: 4122605.4011763 (1)\ttotal: 302ms\tremaining: 0us\n",
      "\n",
      "bestTest = 4122605.401\n",
      "bestIteration = 1\n",
      "\n",
      "9:\tloss: 4122605.4011763\tbest: 4122605.4011763 (9)\ttotal: 19.3s\tremaining: 2m 34s\n",
      "0:\tlearn: 8505770.9055024\ttest: 8332932.6820071\tbest: 8332932.6820071 (0)\ttotal: 102ms\tremaining: 204ms\n",
      "1:\tlearn: 8447487.9631436\ttest: 8273696.4862661\tbest: 8273696.4862661 (1)\ttotal: 305ms\tremaining: 152ms\n",
      "2:\tlearn: 8389951.4225405\ttest: 8215214.9811360\tbest: 8215214.9811360 (2)\ttotal: 414ms\tremaining: 0us\n",
      "\n",
      "bestTest = 8215214.981\n",
      "bestIteration = 2\n",
      "\n",
      "10:\tloss: 8215214.9811360\tbest: 4122605.4011763 (9)\ttotal: 20s\tremaining: 2m 23s\n",
      "0:\tlearn: 8466404.8406850\ttest: 8292929.9416744\tbest: 8292929.9416744 (0)\ttotal: 146ms\tremaining: 292ms\n",
      "1:\tlearn: 8370149.8681160\ttest: 8195079.7284963\tbest: 8195079.7284963 (1)\ttotal: 396ms\tremaining: 198ms\n",
      "2:\tlearn: 8275980.4386651\ttest: 8099329.2766162\tbest: 8099329.2766162 (2)\ttotal: 522ms\tremaining: 0us\n",
      "\n",
      "bestTest = 8099329.277\n",
      "bestIteration = 2\n",
      "\n",
      "11:\tloss: 8099329.2766162\tbest: 4122605.4011763 (9)\ttotal: 20.9s\tremaining: 2m 15s\n",
      "0:\tlearn: 8400926.8630426\ttest: 8226380.2566372\tbest: 8226380.2566372 (0)\ttotal: 99.4ms\tremaining: 199ms\n",
      "1:\tlearn: 8242457.2287865\ttest: 8065626.1622131\tbest: 8065626.1622131 (1)\ttotal: 346ms\tremaining: 173ms\n",
      "2:\tlearn: 8090349.4749491\ttest: 7910875.0467192\tbest: 7910875.0467192 (2)\ttotal: 490ms\tremaining: 0us\n",
      "\n",
      "bestTest = 7910875.047\n",
      "bestIteration = 2\n",
      "\n",
      "12:\tloss: 7910875.0467192\tbest: 4122605.4011763 (9)\ttotal: 21.7s\tremaining: 2m 8s\n",
      "0:\tlearn: 8292241.2143087\ttest: 8115879.7886635\tbest: 8115879.7886635 (0)\ttotal: 100ms\tremaining: 200ms\n",
      "1:\tlearn: 8035391.2609046\ttest: 7855195.0115222\tbest: 7855195.0115222 (1)\ttotal: 277ms\tremaining: 138ms\n",
      "2:\tlearn: 7795343.1270906\ttest: 7610723.9669734\tbest: 7610723.9669734 (2)\ttotal: 375ms\tremaining: 0us\n",
      "\n",
      "bestTest = 7610723.967\n",
      "bestIteration = 2\n",
      "\n",
      "13:\tloss: 7610723.9669734\tbest: 4122605.4011763 (9)\ttotal: 22.4s\tremaining: 2m 1s\n",
      "0:\tlearn: 8112505.6712046\ttest: 7933040.7061014\tbest: 7933040.7061014 (0)\ttotal: 79.2ms\tremaining: 158ms\n",
      "1:\tlearn: 7704975.0788758\ttest: 7519065.1489425\tbest: 7519065.1489425 (1)\ttotal: 237ms\tremaining: 119ms\n",
      "2:\tlearn: 7341701.6292867\ttest: 7148434.9678971\tbest: 7148434.9678971 (2)\ttotal: 319ms\tremaining: 0us\n",
      "\n",
      "bestTest = 7148434.968\n",
      "bestIteration = 2\n",
      "\n",
      "14:\tloss: 7148434.9678971\tbest: 4122605.4011763 (9)\ttotal: 23s\tremaining: 1m 54s\n",
      "0:\tlearn: 7817363.7707614\ttest: 7632506.8080334\tbest: 7632506.8080334 (0)\ttotal: 76.6ms\tremaining: 153ms\n",
      "1:\tlearn: 7196010.1662036\ttest: 7000373.7738104\tbest: 7000373.7738104 (1)\ttotal: 235ms\tremaining: 117ms\n",
      "2:\tlearn: 6618439.8991154\ttest: 6413281.3244223\tbest: 6413281.3244223 (2)\ttotal: 394ms\tremaining: 0us\n",
      "\n",
      "bestTest = 6413281.324\n",
      "bestIteration = 2\n",
      "\n",
      "15:\tloss: 6413281.3244223\tbest: 4122605.4011763 (9)\ttotal: 23.6s\tremaining: 1m 49s\n",
      "0:\tlearn: 7339746.5216073\ttest: 7145293.9386027\tbest: 7145293.9386027 (0)\ttotal: 77.2ms\tremaining: 154ms\n",
      "1:\tlearn: 6465975.3748394\ttest: 6254084.8466346\tbest: 6254084.8466346 (1)\ttotal: 235ms\tremaining: 118ms\n",
      "2:\tlearn: 5738672.0558787\ttest: 5514193.6962718\tbest: 5514193.6962718 (2)\ttotal: 395ms\tremaining: 0us\n",
      "\n",
      "bestTest = 5514193.696\n",
      "bestIteration = 2\n",
      "\n",
      "16:\tloss: 5514193.6962718\tbest: 4122605.4011763 (9)\ttotal: 24.3s\tremaining: 1m 44s\n",
      "0:\tlearn: 6593556.6078212\ttest: 6381535.5537540\tbest: 6381535.5537540 (0)\ttotal: 82.6ms\tremaining: 165ms\n",
      "1:\tlearn: 5482800.9504366\ttest: 5256263.2526161\tbest: 5256263.2526161 (1)\ttotal: 254ms\tremaining: 127ms\n",
      "2:\tlearn: 4839252.3477877\ttest: 4585534.2457777\tbest: 4585534.2457777 (2)\ttotal: 421ms\tremaining: 0us\n",
      "\n",
      "bestTest = 4585534.246\n",
      "bestIteration = 2\n",
      "\n",
      "17:\tloss: 4585534.2457777\tbest: 4122605.4011763 (9)\ttotal: 24.9s\tremaining: 1m 39s\n",
      "0:\tlearn: 5550118.4908339\ttest: 5306821.2119071\tbest: 5306821.2119071 (0)\ttotal: 85.4ms\tremaining: 171ms\n",
      "1:\tlearn: 4643823.5689150\ttest: 4420588.4777776\tbest: 4420588.4777776 (1)\ttotal: 245ms\tremaining: 122ms\n",
      "2:\tlearn: 4299493.4165641\ttest: 4054409.6999925\tbest: 4054409.6999925 (2)\ttotal: 407ms\tremaining: 0us\n",
      "\n",
      "bestTest = 4054409.7\n",
      "bestIteration = 2\n",
      "\n",
      "18:\tloss: 4054409.6999925\tbest: 4054409.6999925 (18)\ttotal: 25.6s\tremaining: 1m 35s\n",
      "0:\tlearn: 4760967.8444292\ttest: 4495337.1418507\tbest: 4495337.1418507 (0)\ttotal: 77.1ms\tremaining: 154ms\n",
      "1:\tlearn: 4326015.2945664\ttest: 4122605.4011763\tbest: 4122605.4011763 (1)\ttotal: 235ms\tremaining: 117ms\n",
      "2:\tlearn: 4168821.9904856\ttest: 3997140.6227217\tbest: 3997140.6227217 (2)\ttotal: 392ms\tremaining: 0us\n",
      "\n",
      "bestTest = 3997140.623\n",
      "bestIteration = 2\n",
      "\n",
      "19:\tloss: 3997140.6227217\tbest: 3997140.6227217 (19)\ttotal: 26.2s\tremaining: 1m 31s\n",
      "0:\tlearn: 8505770.9055024\ttest: 8332932.6820071\tbest: 8332932.6820071 (0)\ttotal: 76.5ms\tremaining: 229ms\n",
      "1:\tlearn: 8447487.9631436\ttest: 8273696.4862661\tbest: 8273696.4862661 (1)\ttotal: 232ms\tremaining: 232ms\n",
      "2:\tlearn: 8389951.4225405\ttest: 8215214.9811360\tbest: 8215214.9811360 (2)\ttotal: 313ms\tremaining: 104ms\n",
      "3:\tlearn: 8333179.2410075\ttest: 8157491.8603526\tbest: 8157491.8603526 (3)\ttotal: 470ms\tremaining: 0us\n",
      "\n",
      "bestTest = 8157491.86\n",
      "bestIteration = 3\n",
      "\n",
      "20:\tloss: 8157491.8603526\tbest: 3997140.6227217 (19)\ttotal: 26.9s\tremaining: 1m 28s\n"
     ]
    },
    {
     "name": "stdout",
     "output_type": "stream",
     "text": [
      "0:\tlearn: 8466404.8406850\ttest: 8292929.9416744\tbest: 8292929.9416744 (0)\ttotal: 76.2ms\tremaining: 229ms\n",
      "1:\tlearn: 8370149.8681160\ttest: 8195079.7284963\tbest: 8195079.7284963 (1)\ttotal: 231ms\tremaining: 231ms\n",
      "2:\tlearn: 8275980.4386651\ttest: 8099329.2766162\tbest: 8099329.2766162 (2)\ttotal: 310ms\tremaining: 103ms\n",
      "3:\tlearn: 8183903.6904288\ttest: 8005662.7795672\tbest: 8005662.7795672 (3)\ttotal: 466ms\tremaining: 0us\n",
      "\n",
      "bestTest = 8005662.78\n",
      "bestIteration = 3\n",
      "\n",
      "21:\tloss: 8005662.7795672\tbest: 3997140.6227217 (19)\ttotal: 27.6s\tremaining: 1m 25s\n",
      "0:\tlearn: 8400926.8630426\ttest: 8226380.2566372\tbest: 8226380.2566372 (0)\ttotal: 76.3ms\tremaining: 229ms\n",
      "1:\tlearn: 8242457.2287865\ttest: 8065626.1622131\tbest: 8065626.1622131 (1)\ttotal: 231ms\tremaining: 231ms\n",
      "2:\tlearn: 8090349.4749491\ttest: 7910875.0467192\tbest: 7910875.0467192 (2)\ttotal: 311ms\tremaining: 104ms\n",
      "3:\tlearn: 7937284.5733432\ttest: 7755802.2982270\tbest: 7755802.2982270 (3)\ttotal: 467ms\tremaining: 0us\n",
      "\n",
      "bestTest = 7755802.298\n",
      "bestIteration = 3\n",
      "\n",
      "22:\tloss: 7755802.2982270\tbest: 3997140.6227217 (19)\ttotal: 28.3s\tremaining: 1m 22s\n",
      "0:\tlearn: 8292241.2143087\ttest: 8115879.7886635\tbest: 8115879.7886635 (0)\ttotal: 76.1ms\tremaining: 228ms\n",
      "1:\tlearn: 8035391.2609046\ttest: 7855195.0115222\tbest: 7855195.0115222 (1)\ttotal: 238ms\tremaining: 238ms\n",
      "2:\tlearn: 7795343.1270906\ttest: 7610723.9669734\tbest: 7610723.9669734 (2)\ttotal: 321ms\tremaining: 107ms\n",
      "3:\tlearn: 7558939.7303148\ttest: 7371070.2830888\tbest: 7371070.2830888 (3)\ttotal: 479ms\tremaining: 0us\n",
      "\n",
      "bestTest = 7371070.283\n",
      "bestIteration = 3\n",
      "\n",
      "23:\tloss: 7371070.2830888\tbest: 3997140.6227217 (19)\ttotal: 29.1s\tremaining: 1m 19s\n",
      "0:\tlearn: 8112505.6712046\ttest: 7933040.7061014\tbest: 7933040.7061014 (0)\ttotal: 77.9ms\tremaining: 234ms\n",
      "1:\tlearn: 7704975.0788758\ttest: 7519065.1489425\tbest: 7519065.1489425 (1)\ttotal: 232ms\tremaining: 232ms\n",
      "2:\tlearn: 7341701.6292867\ttest: 7148434.9678971\tbest: 7148434.9678971 (2)\ttotal: 312ms\tremaining: 104ms\n",
      "3:\tlearn: 6997236.9074944\ttest: 6798944.1186395\tbest: 6798944.1186395 (3)\ttotal: 469ms\tremaining: 0us\n",
      "\n",
      "bestTest = 6798944.119\n",
      "bestIteration = 3\n",
      "\n",
      "24:\tloss: 6798944.1186395\tbest: 3997140.6227217 (19)\ttotal: 29.8s\tremaining: 1m 17s\n",
      "0:\tlearn: 7817363.7707614\ttest: 7632506.8080334\tbest: 7632506.8080334 (0)\ttotal: 77ms\tremaining: 231ms\n",
      "1:\tlearn: 7196010.1662036\ttest: 7000373.7738104\tbest: 7000373.7738104 (1)\ttotal: 233ms\tremaining: 233ms\n",
      "2:\tlearn: 6618439.8991154\ttest: 6413281.3244223\tbest: 6413281.3244223 (2)\ttotal: 402ms\tremaining: 134ms\n",
      "3:\tlearn: 6201533.8762258\ttest: 5985484.6654051\tbest: 5985484.6654051 (3)\ttotal: 490ms\tremaining: 0us\n",
      "\n",
      "bestTest = 5985484.665\n",
      "bestIteration = 3\n",
      "\n",
      "25:\tloss: 5985484.6654051\tbest: 3997140.6227217 (19)\ttotal: 30.5s\tremaining: 1m 15s\n",
      "0:\tlearn: 7339746.5216073\ttest: 7145293.9386027\tbest: 7145293.9386027 (0)\ttotal: 90ms\tremaining: 270ms\n",
      "1:\tlearn: 6465975.3748394\ttest: 6254084.8466346\tbest: 6254084.8466346 (1)\ttotal: 264ms\tremaining: 264ms\n",
      "2:\tlearn: 5738672.0558787\ttest: 5514193.6962718\tbest: 5514193.6962718 (2)\ttotal: 443ms\tremaining: 148ms\n",
      "3:\tlearn: 5292927.8727082\ttest: 5056622.4250734\tbest: 5056622.4250734 (3)\ttotal: 625ms\tremaining: 0us\n",
      "\n",
      "bestTest = 5056622.425\n",
      "bestIteration = 3\n",
      "\n",
      "26:\tloss: 5056622.4250734\tbest: 3997140.6227217 (19)\ttotal: 31.4s\tremaining: 1m 13s\n",
      "0:\tlearn: 6593556.6078212\ttest: 6381535.5537540\tbest: 6381535.5537540 (0)\ttotal: 89.8ms\tremaining: 269ms\n",
      "1:\tlearn: 5482800.9504366\ttest: 5256263.2526161\tbest: 5256263.2526161 (1)\ttotal: 262ms\tremaining: 262ms\n",
      "2:\tlearn: 4839252.3477877\ttest: 4585534.2457777\tbest: 4585534.2457777 (2)\ttotal: 427ms\tremaining: 142ms\n",
      "3:\tlearn: 4506709.0748224\ttest: 4241247.6121474\tbest: 4241247.6121474 (3)\ttotal: 602ms\tremaining: 0us\n",
      "\n",
      "bestTest = 4241247.612\n",
      "bestIteration = 3\n",
      "\n",
      "27:\tloss: 4241247.6121474\tbest: 3997140.6227217 (19)\ttotal: 32.3s\tremaining: 1m 11s\n",
      "0:\tlearn: 5550118.4908339\ttest: 5306821.2119071\tbest: 5306821.2119071 (0)\ttotal: 85.4ms\tremaining: 256ms\n",
      "1:\tlearn: 4643823.5689150\ttest: 4420588.4777776\tbest: 4420588.4777776 (1)\ttotal: 249ms\tremaining: 249ms\n",
      "2:\tlearn: 4299493.4165641\ttest: 4054409.6999925\tbest: 4054409.6999925 (2)\ttotal: 408ms\tremaining: 136ms\n",
      "3:\tlearn: 4100782.4968540\ttest: 3832448.4595528\tbest: 3832448.4595528 (3)\ttotal: 570ms\tremaining: 0us\n",
      "\n",
      "bestTest = 3832448.46\n",
      "bestIteration = 3\n",
      "\n",
      "28:\tloss: 3832448.4595528\tbest: 3832448.4595528 (28)\ttotal: 33.1s\tremaining: 1m 9s\n",
      "0:\tlearn: 4760967.8444292\ttest: 4495337.1418507\tbest: 4495337.1418507 (0)\ttotal: 76.6ms\tremaining: 230ms\n",
      "1:\tlearn: 4326015.2945664\ttest: 4122605.4011763\tbest: 4122605.4011763 (1)\ttotal: 235ms\tremaining: 235ms\n",
      "2:\tlearn: 4168821.9904856\ttest: 3997140.6227217\tbest: 3997140.6227217 (2)\ttotal: 411ms\tremaining: 137ms\n",
      "3:\tlearn: 3952790.0497911\ttest: 3742572.2550752\tbest: 3742572.2550752 (3)\ttotal: 589ms\tremaining: 0us\n",
      "\n",
      "bestTest = 3742572.255\n",
      "bestIteration = 3\n",
      "\n",
      "29:\tloss: 3742572.2550752\tbest: 3742572.2550752 (29)\ttotal: 33.9s\tremaining: 1m 7s\n",
      "0:\tlearn: 8505770.9055024\ttest: 8332932.6820071\tbest: 8332932.6820071 (0)\ttotal: 79ms\tremaining: 79ms\n",
      "1:\tlearn: 8447493.0699620\ttest: 8273697.6756413\tbest: 8273697.6756413 (1)\ttotal: 321ms\tremaining: 0us\n",
      "\n",
      "bestTest = 8273697.676\n",
      "bestIteration = 1\n",
      "\n",
      "30:\tloss: 8273697.6756413\tbest: 3742572.2550752 (29)\ttotal: 34.5s\tremaining: 1m 5s\n",
      "0:\tlearn: 8466404.8406850\ttest: 8292929.9416744\tbest: 8292929.9416744 (0)\ttotal: 76.7ms\tremaining: 76.7ms\n",
      "1:\tlearn: 8370158.3318638\ttest: 8195081.7044558\tbest: 8195081.7044558 (1)\ttotal: 315ms\tremaining: 0us\n",
      "\n",
      "bestTest = 8195081.704\n",
      "bestIteration = 1\n",
      "\n",
      "31:\tloss: 8195081.7044558\tbest: 3742572.2550752 (29)\ttotal: 35.1s\tremaining: 1m 3s\n",
      "0:\tlearn: 8400926.8630426\ttest: 8226380.2566372\tbest: 8226380.2566372 (0)\ttotal: 77.2ms\tremaining: 77.2ms\n",
      "1:\tlearn: 8242471.1644115\ttest: 8065629.4840457\tbest: 8065629.4840457 (1)\ttotal: 316ms\tremaining: 0us\n",
      "\n",
      "bestTest = 8065629.484\n",
      "bestIteration = 1\n",
      "\n",
      "32:\tloss: 8065629.4840457\tbest: 3742572.2550752 (29)\ttotal: 35.7s\tremaining: 1m 1s\n",
      "0:\tlearn: 8292241.2143087\ttest: 8115879.7886635\tbest: 8115879.7886635 (0)\ttotal: 77.2ms\tremaining: 77.2ms\n",
      "1:\tlearn: 8035414.0667208\ttest: 7855200.4845289\tbest: 7855200.4845289 (1)\ttotal: 323ms\tremaining: 0us\n",
      "\n",
      "bestTest = 7855200.485\n",
      "bestIteration = 1\n",
      "\n",
      "33:\tloss: 7855200.4845289\tbest: 3742572.2550752 (29)\ttotal: 36.2s\tremaining: 59.7s\n",
      "0:\tlearn: 8112505.6712046\ttest: 7933040.7061014\tbest: 7933040.7061014 (0)\ttotal: 78.6ms\tremaining: 78.6ms\n",
      "1:\tlearn: 7705011.8503981\ttest: 7519074.0732610\tbest: 7519074.0732610 (1)\ttotal: 323ms\tremaining: 0us\n",
      "\n",
      "bestTest = 7519074.073\n",
      "bestIteration = 1\n",
      "\n",
      "34:\tloss: 7519074.0732610\tbest: 3742572.2550752 (29)\ttotal: 36.8s\tremaining: 57.9s\n",
      "0:\tlearn: 7817363.7707614\ttest: 7632506.8080334\tbest: 7632506.8080334 (0)\ttotal: 83.4ms\tremaining: 83.4ms\n",
      "1:\tlearn: 7196067.7459025\ttest: 7000388.0115271\tbest: 7000388.0115271 (1)\ttotal: 333ms\tremaining: 0us\n",
      "\n",
      "bestTest = 7000388.012\n",
      "bestIteration = 1\n",
      "\n",
      "35:\tloss: 7000388.0115271\tbest: 3742572.2550752 (29)\ttotal: 37.4s\tremaining: 56.1s\n",
      "0:\tlearn: 7339746.5216073\ttest: 7145293.9386027\tbest: 7145293.9386027 (0)\ttotal: 79.8ms\tremaining: 79.8ms\n",
      "1:\tlearn: 6466059.9073614\ttest: 6254106.3952875\tbest: 6254106.3952875 (1)\ttotal: 366ms\tremaining: 0us\n",
      "\n",
      "bestTest = 6254106.395\n",
      "bestIteration = 1\n",
      "\n",
      "36:\tloss: 6254106.3952875\tbest: 3742572.2550752 (29)\ttotal: 38s\tremaining: 54.5s\n",
      "0:\tlearn: 6593556.6078212\ttest: 6381535.5537540\tbest: 6381535.5537540 (0)\ttotal: 79.4ms\tremaining: 79.4ms\n",
      "1:\tlearn: 5482905.4698139\ttest: 5256292.8836392\tbest: 5256292.8836392 (1)\ttotal: 321ms\tremaining: 0us\n",
      "\n",
      "bestTest = 5256292.884\n",
      "bestIteration = 1\n",
      "\n",
      "37:\tloss: 5256292.8836392\tbest: 3742572.2550752 (29)\ttotal: 38.6s\tremaining: 52.8s\n",
      "0:\tlearn: 5550118.4908339\ttest: 5306821.2119071\tbest: 5306821.2119071 (0)\ttotal: 79.4ms\tremaining: 79.4ms\n",
      "1:\tlearn: 4469132.0435713\ttest: 4232336.5100631\tbest: 4232336.5100631 (1)\ttotal: 324ms\tremaining: 0us\n",
      "\n",
      "bestTest = 4232336.51\n",
      "bestIteration = 1\n",
      "\n",
      "38:\tloss: 4232336.5100631\tbest: 3742572.2550752 (29)\ttotal: 39.2s\tremaining: 51.2s\n",
      "0:\tlearn: 4760967.8444292\ttest: 4495337.1418507\tbest: 4495337.1418507 (0)\ttotal: 76.5ms\tremaining: 76.5ms\n",
      "1:\tlearn: 4204874.2278833\ttest: 4085799.2771491\tbest: 4085799.2771491 (1)\ttotal: 340ms\tremaining: 0us\n",
      "\n",
      "bestTest = 4085799.277\n",
      "bestIteration = 1\n",
      "\n",
      "39:\tloss: 4085799.2771491\tbest: 3742572.2550752 (29)\ttotal: 39.8s\tremaining: 49.7s\n"
     ]
    },
    {
     "name": "stdout",
     "output_type": "stream",
     "text": [
      "0:\tlearn: 8505770.9055024\ttest: 8332932.6820071\tbest: 8332932.6820071 (0)\ttotal: 77.8ms\tremaining: 156ms\n",
      "1:\tlearn: 8447493.0699620\ttest: 8273697.6756413\tbest: 8273697.6756413 (1)\ttotal: 344ms\tremaining: 172ms\n",
      "2:\tlearn: 8387915.0649257\ttest: 8213090.5158234\tbest: 8213090.5158234 (2)\ttotal: 588ms\tremaining: 0us\n",
      "\n",
      "bestTest = 8213090.516\n",
      "bestIteration = 2\n",
      "\n",
      "40:\tloss: 8213090.5158234\tbest: 3742572.2550752 (29)\ttotal: 40.6s\tremaining: 48.5s\n",
      "0:\tlearn: 8466404.8406850\ttest: 8292929.9416744\tbest: 8292929.9416744 (0)\ttotal: 90.2ms\tremaining: 180ms\n",
      "1:\tlearn: 8370158.3318638\ttest: 8195081.7044558\tbest: 8195081.7044558 (1)\ttotal: 334ms\tremaining: 167ms\n",
      "2:\tlearn: 8272546.2766974\ttest: 8095744.2157691\tbest: 8095744.2157691 (2)\ttotal: 581ms\tremaining: 0us\n",
      "\n",
      "bestTest = 8095744.216\n",
      "bestIteration = 2\n",
      "\n",
      "41:\tloss: 8095744.2157691\tbest: 3742572.2550752 (29)\ttotal: 41.4s\tremaining: 47.3s\n",
      "0:\tlearn: 8400926.8630426\ttest: 8226380.2566372\tbest: 8226380.2566372 (0)\ttotal: 82.2ms\tremaining: 164ms\n",
      "1:\tlearn: 8242471.1644115\ttest: 8065629.4840457\tbest: 8065629.4840457 (1)\ttotal: 325ms\tremaining: 163ms\n",
      "2:\tlearn: 8084517.9539983\ttest: 7904780.9144312\tbest: 7904780.9144312 (2)\ttotal: 573ms\tremaining: 0us\n",
      "\n",
      "bestTest = 7904780.914\n",
      "bestIteration = 2\n",
      "\n",
      "42:\tloss: 7904780.9144312\tbest: 3742572.2550752 (29)\ttotal: 42.2s\tremaining: 46.2s\n",
      "0:\tlearn: 8292241.2143087\ttest: 8115879.7886635\tbest: 8115879.7886635 (0)\ttotal: 76.3ms\tremaining: 153ms\n",
      "1:\tlearn: 8035414.0667208\ttest: 7855200.4845289\tbest: 7855200.4845289 (1)\ttotal: 318ms\tremaining: 159ms\n",
      "2:\tlearn: 7785327.7584846\ttest: 7600238.0379629\tbest: 7600238.0379629 (2)\ttotal: 561ms\tremaining: 0us\n",
      "\n",
      "bestTest = 7600238.038\n",
      "bestIteration = 2\n",
      "\n",
      "43:\tloss: 7600238.0379629\tbest: 3742572.2550752 (29)\ttotal: 43s\tremaining: 45s\n",
      "0:\tlearn: 8112505.6712046\ttest: 7933040.7061014\tbest: 7933040.7061014 (0)\ttotal: 77.9ms\tremaining: 156ms\n",
      "1:\tlearn: 7705011.8503981\ttest: 7519074.0732610\tbest: 7519074.0732610 (1)\ttotal: 326ms\tremaining: 163ms\n",
      "2:\tlearn: 7302633.4924377\ttest: 7110528.5173902\tbest: 7110528.5173902 (2)\ttotal: 596ms\tremaining: 0us\n",
      "\n",
      "bestTest = 7110528.517\n",
      "bestIteration = 2\n",
      "\n",
      "44:\tloss: 7110528.5173902\tbest: 3742572.2550752 (29)\ttotal: 43.9s\tremaining: 43.9s\n",
      "0:\tlearn: 7817363.7707614\ttest: 7632506.8080334\tbest: 7632506.8080334 (0)\ttotal: 78.9ms\tremaining: 158ms\n",
      "1:\tlearn: 7196067.7459025\ttest: 7000388.0115271\tbest: 7000388.0115271 (1)\ttotal: 321ms\tremaining: 161ms\n",
      "2:\tlearn: 6618666.1542825\ttest: 6413343.5971291\tbest: 6413343.5971291 (2)\ttotal: 579ms\tremaining: 0us\n",
      "\n",
      "bestTest = 6413343.597\n",
      "bestIteration = 2\n",
      "\n",
      "45:\tloss: 6413343.5971291\tbest: 3742572.2550752 (29)\ttotal: 44.7s\tremaining: 42.8s\n",
      "0:\tlearn: 7339746.5216073\ttest: 7145293.9386027\tbest: 7145293.9386027 (0)\ttotal: 77.6ms\tremaining: 155ms\n",
      "1:\tlearn: 6466059.9073614\ttest: 6254106.3952875\tbest: 6254106.3952875 (1)\ttotal: 323ms\tremaining: 162ms\n",
      "2:\tlearn: 5738991.7209509\ttest: 5514283.6605819\tbest: 5514283.6605819 (2)\ttotal: 570ms\tremaining: 0us\n",
      "\n",
      "bestTest = 5514283.661\n",
      "bestIteration = 2\n",
      "\n",
      "46:\tloss: 5514283.6605819\tbest: 3742572.2550752 (29)\ttotal: 45.6s\tremaining: 41.7s\n",
      "0:\tlearn: 6593556.6078212\ttest: 6381535.5537540\tbest: 6381535.5537540 (0)\ttotal: 76.9ms\tremaining: 154ms\n",
      "1:\tlearn: 5482905.4698139\ttest: 5256292.8836392\tbest: 5256292.8836392 (1)\ttotal: 320ms\tremaining: 160ms\n",
      "2:\tlearn: 4836206.1565092\ttest: 4602756.9243343\tbest: 4602756.9243343 (2)\ttotal: 568ms\tremaining: 0us\n",
      "\n",
      "bestTest = 4602756.924\n",
      "bestIteration = 2\n",
      "\n",
      "47:\tloss: 4602756.9243343\tbest: 3742572.2550752 (29)\ttotal: 46.4s\tremaining: 40.6s\n",
      "0:\tlearn: 5550118.4908339\ttest: 5306821.2119071\tbest: 5306821.2119071 (0)\ttotal: 77.7ms\tremaining: 155ms\n",
      "1:\tlearn: 4469132.0435713\ttest: 4232336.5100631\tbest: 4232336.5100631 (1)\ttotal: 322ms\tremaining: 161ms\n",
      "2:\tlearn: 4122771.8554317\ttest: 3865048.8724616\tbest: 3865048.8724616 (2)\ttotal: 568ms\tremaining: 0us\n",
      "\n",
      "bestTest = 3865048.872\n",
      "bestIteration = 2\n",
      "\n",
      "48:\tloss: 3865048.8724616\tbest: 3742572.2550752 (29)\ttotal: 47.2s\tremaining: 39.5s\n",
      "0:\tlearn: 4760967.8444292\ttest: 4495337.1418507\tbest: 4495337.1418507 (0)\ttotal: 77.1ms\tremaining: 154ms\n",
      "1:\tlearn: 4204874.2278833\ttest: 4085799.2771491\tbest: 4085799.2771491 (1)\ttotal: 321ms\tremaining: 161ms\n",
      "2:\tlearn: 3895912.4044665\ttest: 3743411.6463102\tbest: 3743411.6463102 (2)\ttotal: 570ms\tremaining: 0us\n",
      "\n",
      "bestTest = 3743411.646\n",
      "bestIteration = 2\n",
      "\n",
      "49:\tloss: 3743411.6463102\tbest: 3742572.2550752 (29)\ttotal: 48s\tremaining: 38.4s\n",
      "0:\tlearn: 8505770.9055024\ttest: 8332932.6820071\tbest: 8332932.6820071 (0)\ttotal: 76.4ms\tremaining: 229ms\n",
      "1:\tlearn: 8447493.0699620\ttest: 8273697.6756413\tbest: 8273697.6756413 (1)\ttotal: 316ms\tremaining: 316ms\n",
      "2:\tlearn: 8387915.0649257\ttest: 8213090.5158234\tbest: 8213090.5158234 (2)\ttotal: 562ms\tremaining: 187ms\n",
      "3:\tlearn: 8331137.0255395\ttest: 8155372.3282294\tbest: 8155372.3282294 (3)\ttotal: 812ms\tremaining: 0us\n",
      "\n",
      "bestTest = 8155372.328\n",
      "bestIteration = 3\n",
      "\n",
      "50:\tloss: 8155372.3282294\tbest: 3742572.2550752 (29)\ttotal: 49.1s\tremaining: 37.5s\n",
      "0:\tlearn: 8466404.8406850\ttest: 8292929.9416744\tbest: 8292929.9416744 (0)\ttotal: 76.5ms\tremaining: 229ms\n",
      "1:\tlearn: 8370158.3318638\ttest: 8195081.7044558\tbest: 8195081.7044558 (1)\ttotal: 314ms\tremaining: 314ms\n",
      "2:\tlearn: 8272546.2766974\ttest: 8095744.2157691\tbest: 8095744.2157691 (2)\ttotal: 560ms\tremaining: 187ms\n",
      "3:\tlearn: 8180442.3831108\ttest: 8002067.9170228\tbest: 8002067.9170228 (3)\ttotal: 804ms\tremaining: 0us\n",
      "\n",
      "bestTest = 8002067.917\n",
      "bestIteration = 3\n",
      "\n",
      "51:\tloss: 8002067.9170228\tbest: 3742572.2550752 (29)\ttotal: 50.1s\tremaining: 36.6s\n",
      "0:\tlearn: 8400926.8630426\ttest: 8226380.2566372\tbest: 8226380.2566372 (0)\ttotal: 75.8ms\tremaining: 228ms\n",
      "1:\tlearn: 8242471.1644115\ttest: 8065629.4840457\tbest: 8065629.4840457 (1)\ttotal: 316ms\tremaining: 316ms\n",
      "2:\tlearn: 8084517.9539983\ttest: 7904780.9144312\tbest: 7904780.9144312 (2)\ttotal: 562ms\tremaining: 187ms\n",
      "3:\tlearn: 7937998.2314380\ttest: 7755635.9712839\tbest: 7755635.9712839 (3)\ttotal: 806ms\tremaining: 0us\n",
      "\n",
      "bestTest = 7755635.971\n",
      "bestIteration = 3\n",
      "\n",
      "52:\tloss: 7755635.9712839\tbest: 3742572.2550752 (29)\ttotal: 51.2s\tremaining: 35.7s\n",
      "0:\tlearn: 8292241.2143087\ttest: 8115879.7886635\tbest: 8115879.7886635 (0)\ttotal: 79.4ms\tremaining: 238ms\n",
      "1:\tlearn: 8035414.0667208\ttest: 7855200.4845289\tbest: 7855200.4845289 (1)\ttotal: 320ms\tremaining: 320ms\n",
      "2:\tlearn: 7785327.7584846\ttest: 7600238.0379629\tbest: 7600238.0379629 (2)\ttotal: 566ms\tremaining: 189ms\n",
      "3:\tlearn: 7548549.6311567\ttest: 7360170.1558182\tbest: 7360170.1558182 (3)\ttotal: 812ms\tremaining: 0us\n",
      "\n",
      "bestTest = 7360170.156\n",
      "bestIteration = 3\n",
      "\n",
      "53:\tloss: 7360170.1558182\tbest: 3742572.2550752 (29)\ttotal: 52.2s\tremaining: 34.8s\n",
      "0:\tlearn: 8112505.6712046\ttest: 7933040.7061014\tbest: 7933040.7061014 (0)\ttotal: 78.9ms\tremaining: 237ms\n",
      "1:\tlearn: 7705011.8503981\ttest: 7519074.0732610\tbest: 7519074.0732610 (1)\ttotal: 320ms\tremaining: 320ms\n",
      "2:\tlearn: 7302633.4924377\ttest: 7110528.5173902\tbest: 7110528.5173902 (2)\ttotal: 563ms\tremaining: 188ms\n",
      "3:\tlearn: 6968332.6155488\ttest: 6772217.4878970\tbest: 6772217.4878970 (3)\ttotal: 806ms\tremaining: 0us\n",
      "\n",
      "bestTest = 6772217.488\n",
      "bestIteration = 3\n",
      "\n",
      "54:\tloss: 6772217.4878970\tbest: 3742572.2550752 (29)\ttotal: 53.3s\tremaining: 33.9s\n",
      "0:\tlearn: 7817363.7707614\ttest: 7632506.8080334\tbest: 7632506.8080334 (0)\ttotal: 78.8ms\tremaining: 237ms\n",
      "1:\tlearn: 7196067.7459025\ttest: 7000388.0115271\tbest: 7000388.0115271 (1)\ttotal: 332ms\tremaining: 332ms\n",
      "2:\tlearn: 6618666.1542825\ttest: 6413343.5971291\tbest: 6413343.5971291 (2)\ttotal: 581ms\tremaining: 194ms\n",
      "3:\tlearn: 6161786.2043337\ttest: 5948301.3282494\tbest: 5948301.3282494 (3)\ttotal: 829ms\tremaining: 0us\n",
      "\n",
      "bestTest = 5948301.328\n",
      "bestIteration = 3\n",
      "\n",
      "55:\tloss: 5948301.3282494\tbest: 3742572.2550752 (29)\ttotal: 54.4s\tremaining: 33s\n",
      "0:\tlearn: 7339746.5216073\ttest: 7145293.9386027\tbest: 7145293.9386027 (0)\ttotal: 76.4ms\tremaining: 229ms\n",
      "1:\tlearn: 6466059.9073614\ttest: 6254106.3952875\tbest: 6254106.3952875 (1)\ttotal: 318ms\tremaining: 318ms\n",
      "2:\tlearn: 5738991.7209509\ttest: 5514283.6605819\tbest: 5514283.6605819 (2)\ttotal: 566ms\tremaining: 189ms\n",
      "3:\tlearn: 5258166.8321858\ttest: 5044113.0274119\tbest: 5044113.0274119 (3)\ttotal: 818ms\tremaining: 0us\n",
      "\n",
      "bestTest = 5044113.027\n",
      "bestIteration = 3\n",
      "\n",
      "56:\tloss: 5044113.0274119\tbest: 3742572.2550752 (29)\ttotal: 55.4s\tremaining: 32.1s\n",
      "0:\tlearn: 6593556.6078212\ttest: 6381535.5537540\tbest: 6381535.5537540 (0)\ttotal: 80.2ms\tremaining: 241ms\n"
     ]
    },
    {
     "name": "stdout",
     "output_type": "stream",
     "text": [
      "1:\tlearn: 5482905.4698139\ttest: 5256292.8836392\tbest: 5256292.8836392 (1)\ttotal: 322ms\tremaining: 322ms\n",
      "2:\tlearn: 4836206.1565092\ttest: 4602756.9243343\tbest: 4602756.9243343 (2)\ttotal: 565ms\tremaining: 188ms\n",
      "3:\tlearn: 4449933.2253150\ttest: 4216833.0424139\tbest: 4216833.0424139 (3)\ttotal: 809ms\tremaining: 0us\n",
      "\n",
      "bestTest = 4216833.042\n",
      "bestIteration = 3\n",
      "\n",
      "57:\tloss: 4216833.0424139\tbest: 3742572.2550752 (29)\ttotal: 56.5s\tremaining: 31.2s\n",
      "0:\tlearn: 5550118.4908339\ttest: 5306821.2119071\tbest: 5306821.2119071 (0)\ttotal: 77.2ms\tremaining: 232ms\n",
      "1:\tlearn: 4469132.0435713\ttest: 4232336.5100631\tbest: 4232336.5100631 (1)\ttotal: 329ms\tremaining: 329ms\n",
      "2:\tlearn: 4122771.8554317\ttest: 3865048.8724616\tbest: 3865048.8724616 (2)\ttotal: 575ms\tremaining: 192ms\n",
      "3:\tlearn: 3917231.7631820\ttest: 3693584.7010620\tbest: 3693584.7010620 (3)\ttotal: 823ms\tremaining: 0us\n",
      "\n",
      "bestTest = 3693584.701\n",
      "bestIteration = 3\n",
      "\n",
      "58:\tloss: 3693584.7010620\tbest: 3693584.7010620 (58)\ttotal: 57.5s\tremaining: 30.2s\n",
      "0:\tlearn: 4760967.8444292\ttest: 4495337.1418507\tbest: 4495337.1418507 (0)\ttotal: 100ms\tremaining: 301ms\n",
      "1:\tlearn: 4204874.2278833\ttest: 4085799.2771491\tbest: 4085799.2771491 (1)\ttotal: 370ms\tremaining: 370ms\n",
      "2:\tlearn: 3895912.4044665\ttest: 3743411.6463102\tbest: 3743411.6463102 (2)\ttotal: 618ms\tremaining: 206ms\n",
      "3:\tlearn: 3827436.7055546\ttest: 3743209.0011738\tbest: 3743209.0011738 (3)\ttotal: 883ms\tremaining: 0us\n",
      "\n",
      "bestTest = 3743209.001\n",
      "bestIteration = 3\n",
      "\n",
      "59:\tloss: 3743209.0011738\tbest: 3693584.7010620 (58)\ttotal: 58.7s\tremaining: 29.3s\n",
      "0:\tlearn: 8505770.9055024\ttest: 8332932.6820071\tbest: 8332932.6820071 (0)\ttotal: 81.6ms\tremaining: 81.6ms\n",
      "1:\tlearn: 8447495.3781582\ttest: 8273696.9433200\tbest: 8273696.9433200 (1)\ttotal: 428ms\tremaining: 0us\n",
      "\n",
      "bestTest = 8273696.943\n",
      "bestIteration = 1\n",
      "\n",
      "60:\tloss: 8273696.9433200\tbest: 3693584.7010620 (58)\ttotal: 59.4s\tremaining: 28.2s\n",
      "0:\tlearn: 8466404.8406850\ttest: 8292929.9416744\tbest: 8292929.9416744 (0)\ttotal: 78.8ms\tremaining: 78.8ms\n",
      "1:\tlearn: 8370162.1363448\ttest: 8195080.4877997\tbest: 8195080.4877997 (1)\ttotal: 423ms\tremaining: 0us\n",
      "\n",
      "bestTest = 8195080.488\n",
      "bestIteration = 1\n",
      "\n",
      "61:\tloss: 8195080.4877997\tbest: 3693584.7010620 (58)\ttotal: 1m\tremaining: 27.1s\n",
      "0:\tlearn: 8400926.8630426\ttest: 8226380.2566372\tbest: 8226380.2566372 (0)\ttotal: 81.9ms\tremaining: 81.9ms\n",
      "1:\tlearn: 8242477.4003942\ttest: 8065627.5270201\tbest: 8065627.5270201 (1)\ttotal: 424ms\tremaining: 0us\n",
      "\n",
      "bestTest = 8065627.527\n",
      "bestIteration = 1\n",
      "\n",
      "62:\tloss: 8065627.5270201\tbest: 3693584.7010620 (58)\ttotal: 1m\tremaining: 26s\n",
      "0:\tlearn: 8292241.2143087\ttest: 8115879.7886635\tbest: 8115879.7886635 (0)\ttotal: 76.3ms\tremaining: 76.3ms\n",
      "1:\tlearn: 8035424.1106607\ttest: 7855197.2600129\tbest: 7855197.2600129 (1)\ttotal: 425ms\tremaining: 0us\n",
      "\n",
      "bestTest = 7855197.26\n",
      "bestIteration = 1\n",
      "\n",
      "63:\tloss: 7855197.2600129\tbest: 3693584.7010620 (58)\ttotal: 1m 1s\tremaining: 24.9s\n",
      "0:\tlearn: 8112505.6712046\ttest: 7933040.7061014\tbest: 7933040.7061014 (0)\ttotal: 78ms\tremaining: 78ms\n",
      "1:\tlearn: 7705027.5954417\ttest: 7519068.8149451\tbest: 7519068.8149451 (1)\ttotal: 478ms\tremaining: 0us\n",
      "\n",
      "bestTest = 7519068.815\n",
      "bestIteration = 1\n",
      "\n",
      "64:\tloss: 7519068.8149451\tbest: 3693584.7010620 (58)\ttotal: 1m 2s\tremaining: 23.9s\n",
      "0:\tlearn: 7817363.7707614\ttest: 7632506.8080334\tbest: 7632506.8080334 (0)\ttotal: 78ms\tremaining: 78ms\n",
      "1:\tlearn: 7196091.1526171\ttest: 7000379.6214277\tbest: 7000379.6214277 (1)\ttotal: 441ms\tremaining: 0us\n",
      "\n",
      "bestTest = 7000379.621\n",
      "bestIteration = 1\n",
      "\n",
      "65:\tloss: 7000379.6214277\tbest: 3693584.7010620 (58)\ttotal: 1m 2s\tremaining: 22.9s\n",
      "0:\tlearn: 7339746.5216073\ttest: 7145293.9386027\tbest: 7145293.9386027 (0)\ttotal: 79.4ms\tremaining: 79.4ms\n",
      "1:\tlearn: 6466090.8674152\ttest: 6254093.6942569\tbest: 6254093.6942569 (1)\ttotal: 424ms\tremaining: 0us\n",
      "\n",
      "bestTest = 6254093.694\n",
      "bestIteration = 1\n",
      "\n",
      "66:\tloss: 6254093.6942569\tbest: 3693584.7010620 (58)\ttotal: 1m 3s\tremaining: 21.8s\n",
      "0:\tlearn: 6593556.6078212\ttest: 6381535.5537540\tbest: 6381535.5537540 (0)\ttotal: 82.7ms\tremaining: 82.7ms\n",
      "1:\tlearn: 5482936.9201815\ttest: 5256278.5664092\tbest: 5256278.5664092 (1)\ttotal: 508ms\tremaining: 0us\n",
      "\n",
      "bestTest = 5256278.566\n",
      "bestIteration = 1\n",
      "\n",
      "67:\tloss: 5256278.5664092\tbest: 3693584.7010620 (58)\ttotal: 1m 4s\tremaining: 20.8s\n",
      "0:\tlearn: 5550118.4908339\ttest: 5306821.2119071\tbest: 5306821.2119071 (0)\ttotal: 77ms\tremaining: 77ms\n",
      "1:\tlearn: 4469138.4314265\ttest: 4232323.5181502\tbest: 4232323.5181502 (1)\ttotal: 422ms\tremaining: 0us\n",
      "\n",
      "bestTest = 4232323.518\n",
      "bestIteration = 1\n",
      "\n",
      "68:\tloss: 4232323.5181502\tbest: 3693584.7010620 (58)\ttotal: 1m 5s\tremaining: 19.8s\n",
      "0:\tlearn: 4760967.8444292\ttest: 4495337.1418507\tbest: 4495337.1418507 (0)\ttotal: 77.7ms\tremaining: 77.7ms\n",
      "1:\tlearn: 4102170.0089486\ttest: 3969546.7845359\tbest: 3969546.7845359 (1)\ttotal: 415ms\tremaining: 0us\n",
      "\n",
      "bestTest = 3969546.785\n",
      "bestIteration = 1\n",
      "\n",
      "69:\tloss: 3969546.7845359\tbest: 3693584.7010620 (58)\ttotal: 1m 5s\tremaining: 18.8s\n",
      "0:\tlearn: 8505770.9055024\ttest: 8332932.6820071\tbest: 8332932.6820071 (0)\ttotal: 77.2ms\tremaining: 154ms\n",
      "1:\tlearn: 8447495.3781582\ttest: 8273696.9433200\tbest: 8273696.9433200 (1)\ttotal: 415ms\tremaining: 207ms\n",
      "2:\tlearn: 8389988.8094334\ttest: 8215228.2767326\tbest: 8215228.2767326 (2)\ttotal: 762ms\tremaining: 0us\n",
      "\n",
      "bestTest = 8215228.277\n",
      "bestIteration = 2\n",
      "\n",
      "70:\tloss: 8215228.2767326\tbest: 3693584.7010620 (58)\ttotal: 1m 6s\tremaining: 17.8s\n",
      "0:\tlearn: 8466404.8406850\ttest: 8292929.9416744\tbest: 8292929.9416744 (0)\ttotal: 76.6ms\tremaining: 153ms\n",
      "1:\tlearn: 8370162.1363448\ttest: 8195080.4877997\tbest: 8195080.4877997 (1)\ttotal: 433ms\tremaining: 217ms\n",
      "2:\tlearn: 8276041.8803790\ttest: 8099351.2387670\tbest: 8099351.2387670 (2)\ttotal: 817ms\tremaining: 0us\n",
      "\n",
      "bestTest = 8099351.239\n",
      "bestIteration = 2\n",
      "\n",
      "71:\tloss: 8099351.2387670\tbest: 3693584.7010620 (58)\ttotal: 1m 7s\tremaining: 16.9s\n",
      "0:\tlearn: 8400926.8630426\ttest: 8226380.2566372\tbest: 8226380.2566372 (0)\ttotal: 79ms\tremaining: 158ms\n",
      "1:\tlearn: 8242477.4003942\ttest: 8065627.5270201\tbest: 8065627.5270201 (1)\ttotal: 427ms\tremaining: 214ms\n",
      "2:\tlearn: 8090449.3879147\ttest: 7910911.1890463\tbest: 7910911.1890463 (2)\ttotal: 789ms\tremaining: 0us\n",
      "\n",
      "bestTest = 7910911.189\n",
      "bestIteration = 2\n",
      "\n",
      "72:\tloss: 7910911.1890463\tbest: 3693584.7010620 (58)\ttotal: 1m 8s\tremaining: 16s\n",
      "0:\tlearn: 8292241.2143087\ttest: 8115879.7886635\tbest: 8115879.7886635 (0)\ttotal: 77.9ms\tremaining: 156ms\n",
      "1:\tlearn: 8035424.1106607\ttest: 7855197.2600129\tbest: 7855197.2600129 (1)\ttotal: 420ms\tremaining: 210ms\n",
      "2:\tlearn: 7795502.5611005\ttest: 7610782.5334005\tbest: 7610782.5334005 (2)\ttotal: 773ms\tremaining: 0us\n",
      "\n",
      "bestTest = 7610782.533\n",
      "bestIteration = 2\n",
      "\n",
      "73:\tloss: 7610782.5334005\tbest: 3693584.7010620 (58)\ttotal: 1m 9s\tremaining: 15.1s\n",
      "0:\tlearn: 8112505.6712046\ttest: 7933040.7061014\tbest: 7933040.7061014 (0)\ttotal: 102ms\tremaining: 204ms\n",
      "1:\tlearn: 7705027.5954417\ttest: 7519068.8149451\tbest: 7519068.8149451 (1)\ttotal: 478ms\tremaining: 239ms\n",
      "2:\tlearn: 7322375.7041929\ttest: 7131027.8873890\tbest: 7131027.8873890 (2)\ttotal: 826ms\tremaining: 0us\n",
      "\n",
      "bestTest = 7131027.887\n",
      "bestIteration = 2\n",
      "\n",
      "74:\tloss: 7131027.8873890\tbest: 3693584.7010620 (58)\ttotal: 1m 10s\tremaining: 14.2s\n",
      "0:\tlearn: 7817363.7707614\ttest: 7632506.8080334\tbest: 7632506.8080334 (0)\ttotal: 77.3ms\tremaining: 155ms\n",
      "1:\tlearn: 7196091.1526171\ttest: 7000379.6214277\tbest: 7000379.6214277 (1)\ttotal: 415ms\tremaining: 207ms\n",
      "2:\tlearn: 6653958.3717981\ttest: 6450196.9937320\tbest: 6450196.9937320 (2)\ttotal: 759ms\tremaining: 0us\n",
      "\n",
      "bestTest = 6450196.994\n",
      "bestIteration = 2\n",
      "\n",
      "75:\tloss: 6450196.9937320\tbest: 3693584.7010620 (58)\ttotal: 1m 11s\tremaining: 13.2s\n",
      "0:\tlearn: 7339746.5216073\ttest: 7145293.9386027\tbest: 7145293.9386027 (0)\ttotal: 77.2ms\tremaining: 154ms\n",
      "1:\tlearn: 6466090.8674152\ttest: 6254093.6942569\tbest: 6254093.6942569 (1)\ttotal: 412ms\tremaining: 206ms\n",
      "2:\tlearn: 5738879.0461950\ttest: 5514317.0530401\tbest: 5514317.0530401 (2)\ttotal: 757ms\tremaining: 0us\n",
      "\n",
      "bestTest = 5514317.053\n",
      "bestIteration = 2\n",
      "\n",
      "76:\tloss: 5514317.0530401\tbest: 3693584.7010620 (58)\ttotal: 1m 12s\tremaining: 12.3s\n",
      "0:\tlearn: 6593556.6078212\ttest: 6381535.5537540\tbest: 6381535.5537540 (0)\ttotal: 77.3ms\tremaining: 155ms\n",
      "1:\tlearn: 5482936.9201815\ttest: 5256278.5664092\tbest: 5256278.5664092 (1)\ttotal: 411ms\tremaining: 206ms\n",
      "2:\tlearn: 4772388.3107083\ttest: 4535047.7297862\tbest: 4535047.7297862 (2)\ttotal: 763ms\tremaining: 0us\n",
      "\n",
      "bestTest = 4535047.73\n",
      "bestIteration = 2\n",
      "\n",
      "77:\tloss: 4535047.7297862\tbest: 3693584.7010620 (58)\ttotal: 1m 13s\tremaining: 11.4s\n"
     ]
    },
    {
     "name": "stdout",
     "output_type": "stream",
     "text": [
      "0:\tlearn: 5550118.4908339\ttest: 5306821.2119071\tbest: 5306821.2119071 (0)\ttotal: 76.6ms\tremaining: 153ms\n",
      "1:\tlearn: 4469138.4314265\ttest: 4232323.5181502\tbest: 4232323.5181502 (1)\ttotal: 415ms\tremaining: 208ms\n",
      "2:\tlearn: 4061764.7857855\ttest: 3832128.3145223\tbest: 3832128.3145223 (2)\ttotal: 764ms\tremaining: 0us\n",
      "\n",
      "bestTest = 3832128.315\n",
      "bestIteration = 2\n",
      "\n",
      "78:\tloss: 3832128.3145223\tbest: 3693584.7010620 (58)\ttotal: 1m 14s\tremaining: 10.4s\n",
      "0:\tlearn: 4760967.8444292\ttest: 4495337.1418507\tbest: 4495337.1418507 (0)\ttotal: 76.7ms\tremaining: 153ms\n",
      "1:\tlearn: 4102170.0089486\ttest: 3969546.7845359\tbest: 3969546.7845359 (1)\ttotal: 416ms\tremaining: 208ms\n",
      "2:\tlearn: 3790206.5742623\ttest: 3682646.6894721\tbest: 3682646.6894721 (2)\ttotal: 759ms\tremaining: 0us\n",
      "\n",
      "bestTest = 3682646.689\n",
      "bestIteration = 2\n",
      "\n",
      "79:\tloss: 3682646.6894721\tbest: 3682646.6894721 (79)\ttotal: 1m 15s\tremaining: 9.5s\n",
      "0:\tlearn: 8505770.9055024\ttest: 8332932.6820071\tbest: 8332932.6820071 (0)\ttotal: 76.8ms\tremaining: 230ms\n",
      "1:\tlearn: 8447495.3781582\ttest: 8273696.9433200\tbest: 8273696.9433200 (1)\ttotal: 413ms\tremaining: 413ms\n",
      "2:\tlearn: 8389988.8094334\ttest: 8215228.2767326\tbest: 8215228.2767326 (2)\ttotal: 759ms\tremaining: 253ms\n",
      "3:\tlearn: 8333235.3333632\ttest: 8157514.3733968\tbest: 8157514.3733968 (3)\ttotal: 1.1s\tremaining: 0us\n",
      "\n",
      "bestTest = 8157514.373\n",
      "bestIteration = 3\n",
      "\n",
      "80:\tloss: 8157514.3733968\tbest: 3682646.6894721 (79)\ttotal: 1m 17s\tremaining: 8.59s\n",
      "0:\tlearn: 8466404.8406850\ttest: 8292929.9416744\tbest: 8292929.9416744 (0)\ttotal: 76.4ms\tremaining: 229ms\n",
      "1:\tlearn: 8370162.1363448\ttest: 8195080.4877997\tbest: 8195080.4877997 (1)\ttotal: 414ms\tremaining: 414ms\n",
      "2:\tlearn: 8276041.8803790\ttest: 8099351.2387670\tbest: 8099351.2387670 (2)\ttotal: 756ms\tremaining: 252ms\n",
      "3:\tlearn: 8180497.2365839\ttest: 8002045.4104442\tbest: 8002045.4104442 (3)\ttotal: 1.1s\tremaining: 0us\n",
      "\n",
      "bestTest = 8002045.41\n",
      "bestIteration = 3\n",
      "\n",
      "81:\tloss: 8002045.4104442\tbest: 3682646.6894721 (79)\ttotal: 1m 18s\tremaining: 7.67s\n",
      "0:\tlearn: 8400926.8630426\ttest: 8226380.2566372\tbest: 8226380.2566372 (0)\ttotal: 77ms\tremaining: 231ms\n",
      "1:\tlearn: 8242477.4003942\ttest: 8065627.5270201\tbest: 8065627.5270201 (1)\ttotal: 409ms\tremaining: 409ms\n",
      "2:\tlearn: 8090449.3879147\ttest: 7910911.1890463\tbest: 7910911.1890463 (2)\ttotal: 754ms\tremaining: 251ms\n",
      "3:\tlearn: 7938089.2301589\ttest: 7755599.3272092\tbest: 7755599.3272092 (3)\ttotal: 1.1s\tremaining: 0us\n",
      "\n",
      "bestTest = 7755599.327\n",
      "bestIteration = 3\n",
      "\n",
      "82:\tloss: 7755599.3272092\tbest: 3682646.6894721 (79)\ttotal: 1m 20s\tremaining: 6.75s\n",
      "0:\tlearn: 8292241.2143087\ttest: 8115879.7886635\tbest: 8115879.7886635 (0)\ttotal: 76.5ms\tremaining: 229ms\n",
      "1:\tlearn: 8035424.1106607\ttest: 7855197.2600129\tbest: 7855197.2600129 (1)\ttotal: 414ms\tremaining: 414ms\n",
      "2:\tlearn: 7795502.5611005\ttest: 7610782.5334005\tbest: 7610782.5334005 (2)\ttotal: 758ms\tremaining: 253ms\n",
      "3:\tlearn: 7560318.2756178\ttest: 7370648.0548346\tbest: 7370648.0548346 (3)\ttotal: 1.1s\tremaining: 0us\n",
      "\n",
      "bestTest = 7370648.055\n",
      "bestIteration = 3\n",
      "\n",
      "83:\tloss: 7370648.0548346\tbest: 3682646.6894721 (79)\ttotal: 1m 21s\tremaining: 5.81s\n",
      "0:\tlearn: 8112505.6712046\ttest: 7933040.7061014\tbest: 7933040.7061014 (0)\ttotal: 78.3ms\tremaining: 235ms\n",
      "1:\tlearn: 7705027.5954417\ttest: 7519068.8149451\tbest: 7519068.8149451 (1)\ttotal: 414ms\tremaining: 414ms\n",
      "2:\tlearn: 7322375.7041929\ttest: 7131027.8873890\tbest: 7131027.8873890 (2)\ttotal: 756ms\tremaining: 252ms\n",
      "3:\tlearn: 6978923.9388758\ttest: 6779460.6313183\tbest: 6779460.6313183 (3)\ttotal: 1.11s\tremaining: 0us\n",
      "\n",
      "bestTest = 6779460.631\n",
      "bestIteration = 3\n",
      "\n",
      "84:\tloss: 6779460.6313183\tbest: 3682646.6894721 (79)\ttotal: 1m 22s\tremaining: 4.87s\n",
      "0:\tlearn: 7817363.7707614\ttest: 7632506.8080334\tbest: 7632506.8080334 (0)\ttotal: 77.1ms\tremaining: 231ms\n",
      "1:\tlearn: 7196091.1526171\ttest: 7000379.6214277\tbest: 7000379.6214277 (1)\ttotal: 413ms\tremaining: 413ms\n",
      "2:\tlearn: 6653958.3717981\ttest: 6450196.9937320\tbest: 6450196.9937320 (2)\ttotal: 753ms\tremaining: 251ms\n",
      "3:\tlearn: 6205209.4569399\ttest: 5988761.7964198\tbest: 5988761.7964198 (3)\ttotal: 1.1s\tremaining: 0us\n",
      "\n",
      "bestTest = 5988761.796\n",
      "bestIteration = 3\n",
      "\n",
      "85:\tloss: 5988761.7964198\tbest: 3682646.6894721 (79)\ttotal: 1m 24s\tremaining: 3.91s\n",
      "0:\tlearn: 7339746.5216073\ttest: 7145293.9386027\tbest: 7145293.9386027 (0)\ttotal: 77.7ms\tremaining: 233ms\n",
      "1:\tlearn: 6466090.8674152\ttest: 6254093.6942569\tbest: 6254093.6942569 (1)\ttotal: 412ms\tremaining: 412ms\n",
      "2:\tlearn: 5738879.0461950\ttest: 5514317.0530401\tbest: 5514317.0530401 (2)\ttotal: 760ms\tremaining: 253ms\n",
      "3:\tlearn: 5209249.1357793\ttest: 4976969.0433961\tbest: 4976969.0433961 (3)\ttotal: 1.11s\tremaining: 0us\n",
      "\n",
      "bestTest = 4976969.043\n",
      "bestIteration = 3\n",
      "\n",
      "86:\tloss: 4976969.0433961\tbest: 3682646.6894721 (79)\ttotal: 1m 25s\tremaining: 2.95s\n",
      "0:\tlearn: 6593556.6078212\ttest: 6381535.5537540\tbest: 6381535.5537540 (0)\ttotal: 77.4ms\tremaining: 232ms\n",
      "1:\tlearn: 5482936.9201815\ttest: 5256278.5664092\tbest: 5256278.5664092 (1)\ttotal: 413ms\tremaining: 413ms\n",
      "2:\tlearn: 4772388.3107083\ttest: 4535047.7297862\tbest: 4535047.7297862 (2)\ttotal: 758ms\tremaining: 253ms\n",
      "3:\tlearn: 4362919.0102249\ttest: 4137049.0464150\tbest: 4137049.0464150 (3)\ttotal: 1.1s\tremaining: 0us\n",
      "\n",
      "bestTest = 4137049.046\n",
      "bestIteration = 3\n",
      "\n",
      "87:\tloss: 4137049.0464150\tbest: 3682646.6894721 (79)\ttotal: 1m 26s\tremaining: 1.97s\n",
      "0:\tlearn: 5550118.4908339\ttest: 5306821.2119071\tbest: 5306821.2119071 (0)\ttotal: 77.2ms\tremaining: 231ms\n",
      "1:\tlearn: 4469138.4314265\ttest: 4232323.5181502\tbest: 4232323.5181502 (1)\ttotal: 415ms\tremaining: 415ms\n",
      "2:\tlearn: 4061764.7857855\ttest: 3832128.3145223\tbest: 3832128.3145223 (2)\ttotal: 758ms\tremaining: 253ms\n",
      "3:\tlearn: 3809348.9834370\ttest: 3583308.3024868\tbest: 3583308.3024868 (3)\ttotal: 1.1s\tremaining: 0us\n",
      "\n",
      "bestTest = 3583308.302\n",
      "bestIteration = 3\n",
      "\n",
      "88:\tloss: 3583308.3024868\tbest: 3583308.3024868 (88)\ttotal: 1m 28s\tremaining: 990ms\n",
      "0:\tlearn: 4760967.8444292\ttest: 4495337.1418507\tbest: 4495337.1418507 (0)\ttotal: 77.3ms\tremaining: 232ms\n",
      "1:\tlearn: 4102170.0089486\ttest: 3969546.7845359\tbest: 3969546.7845359 (1)\ttotal: 413ms\tremaining: 413ms\n",
      "2:\tlearn: 3790206.5742623\ttest: 3682646.6894721\tbest: 3682646.6894721 (2)\ttotal: 755ms\tremaining: 252ms\n",
      "3:\tlearn: 3716533.7130923\ttest: 3682445.7091251\tbest: 3682445.7091251 (3)\ttotal: 1.1s\tremaining: 0us\n",
      "\n",
      "bestTest = 3682445.709\n",
      "bestIteration = 3\n",
      "\n",
      "89:\tloss: 3682445.7091251\tbest: 3583308.3024868 (88)\ttotal: 1m 29s\tremaining: 0us\n",
      "Estimating final quality...\n",
      "Training on fold [0/3]\n",
      "0:\tlearn: 5587188.8069774\ttest: 5286653.3402187\tbest: 5286653.3402187 (0)\ttotal: 285ms\tremaining: 855ms\n",
      "1:\tlearn: 4417354.4518102\ttest: 4161485.1321920\tbest: 4161485.1321920 (1)\ttotal: 555ms\tremaining: 555ms\n",
      "2:\tlearn: 4031129.2844610\ttest: 3818976.0327777\tbest: 3818976.0327777 (2)\ttotal: 820ms\tremaining: 273ms\n",
      "3:\tlearn: 3843571.2935890\ttest: 3703623.3601981\tbest: 3703623.3601981 (3)\ttotal: 1.08s\tremaining: 0us\n",
      "\n",
      "bestTest = 3703623.36\n",
      "bestIteration = 3\n",
      "\n",
      "Training on fold [1/3]\n",
      "0:\tlearn: 5402104.3795982\ttest: 5760763.8224696\tbest: 5760763.8224696 (0)\ttotal: 337ms\tremaining: 1.01s\n",
      "1:\tlearn: 4339004.8866927\ttest: 4642508.8981339\tbest: 4642508.8981339 (1)\ttotal: 621ms\tremaining: 621ms\n",
      "2:\tlearn: 3890204.8379153\ttest: 4195999.5583029\tbest: 4195999.5583029 (2)\ttotal: 903ms\tremaining: 301ms\n",
      "3:\tlearn: 3705636.2739750\ttest: 4064369.3910176\tbest: 4064369.3910176 (3)\ttotal: 1.17s\tremaining: 0us\n",
      "\n",
      "bestTest = 4064369.391\n",
      "bestIteration = 3\n",
      "\n",
      "Training on fold [2/3]\n",
      "0:\tlearn: 5524837.2235272\ttest: 5459342.5677924\tbest: 5459342.5677924 (0)\ttotal: 287ms\tremaining: 862ms\n",
      "1:\tlearn: 4414270.7385756\ttest: 4390393.5142534\tbest: 4390393.5142534 (1)\ttotal: 559ms\tremaining: 559ms\n",
      "2:\tlearn: 4069830.6846328\ttest: 4097475.7138540\tbest: 4097475.7138540 (2)\ttotal: 821ms\tremaining: 274ms\n",
      "3:\tlearn: 3828823.9417580\ttest: 3833967.5672319\tbest: 3833967.5672319 (3)\ttotal: 1.08s\tremaining: 0us\n",
      "\n",
      "bestTest = 3833967.567\n",
      "bestIteration = 3\n",
      "\n"
     ]
    }
   ],
   "source": [
    "cb = CatBoostRegressor(loss_function='RMSE')\n",
    "\n",
    "params = {\n",
    "          'depth': np.arange(2, 5), \n",
    "          'iterations': np.arange(2, 5), \n",
    "          'learning_rate': np.logspace(-2, 0, 10)\n",
    "         }\n",
    "\n",
    "res = cb.grid_search(params, train_dataset)"
   ]
  },
  {
   "cell_type": "markdown",
   "metadata": {},
   "source": [
    "Посмотрим на оптимальные параметры для CatBoostRegressor:"
   ]
  },
  {
   "cell_type": "code",
   "execution_count": 25,
   "metadata": {},
   "outputs": [
    {
     "name": "stdout",
     "output_type": "stream",
     "text": [
      "{'depth': 4, 'iterations': 4, 'learning_rate': 0.5994842503189409}\n"
     ]
    }
   ],
   "source": [
    "print(res['params'])"
   ]
  },
  {
   "cell_type": "code",
   "execution_count": 26,
   "metadata": {},
   "outputs": [],
   "source": [
    "cb_preds = cb_preds = cb.predict(test_dataset)"
   ]
  },
  {
   "cell_type": "code",
   "execution_count": 27,
   "metadata": {},
   "outputs": [
    {
     "name": "stdout",
     "output_type": "stream",
     "text": [
      "CatBoostRegressor: 3553820.435219051\n"
     ]
    }
   ],
   "source": [
    "print('CatBoostRegressor:', mean_squared_error(y_test, cb_preds, squared=False))"
   ]
  },
  {
   "cell_type": "markdown",
   "metadata": {
    "id": "JxQnozbtvD6x"
   },
   "source": [
    "### Ensemble v.1 (3 балла)\n",
    "\n",
    "Ансамбли иногда оказываются лучше чем одна большая модель.\n",
    "\n",
    "В колонке `product_type` содержится информация о том, каким является объявление: `Investment` (продажа квартиры как инвестиции) или `OwnerOccupier` (продажа квартиры для жилья). Логично предположить, что если сделать по модели на каждый из этих типов, то качество будет выше.\n",
    "\n",
    "Обучите свои лучшие модели на отдельно на `Investment` и `OwnerOccupier` (т.е. у вас будет `model_invest`, обученная на `(invest_train_X, invest_train_Y)` и `model_owner`, обученная на `(owner_train_X, owner_train_Y)`) и проверьте качество на отложенной выборке (т.е. на исходном `test_split`)."
   ]
  },
  {
   "cell_type": "code",
   "execution_count": 28,
   "metadata": {},
   "outputs": [],
   "source": [
    "invest_train = train[train['product_type'] == 'Investment']\n",
    "invest_train_X = invest_train[cat_columns + num_columns]\n",
    "invest_train_y = invest_train[target]\n",
    "\n",
    "owner_train = train[train['product_type'] == 'OwnerOccupier']\n",
    "owner_train_X = owner_train[cat_columns + num_columns]\n",
    "owner_train_y = owner_train[target]"
   ]
  },
  {
   "cell_type": "code",
   "execution_count": 29,
   "metadata": {
    "id": "HeJOCYa-O_VE"
   },
   "outputs": [],
   "source": [
    "encoder = OneHotEncoder(drop='first', handle_unknown='ignore')\n",
    "invest_train_X = encoder.fit_transform(invest_train_X)\n",
    "\n",
    "owner_train_X = encoder.transform(owner_train_X)\n",
    "\n",
    "X_test = test[cat_columns + num_columns]\n",
    "y_test = test[target]\n",
    "\n",
    "X_test = encoder.transform(X_test)\n",
    "test_dataset = Pool(X_test, y_test)"
   ]
  },
  {
   "cell_type": "code",
   "execution_count": 30,
   "metadata": {},
   "outputs": [
    {
     "name": "stdout",
     "output_type": "stream",
     "text": [
      "0:\tlearn: 4254758.3305879\ttotal: 362ms\tremaining: 724ms\n",
      "1:\tlearn: 3912247.3839573\ttotal: 702ms\tremaining: 351ms\n",
      "2:\tlearn: 3842649.7392023\ttotal: 1.03s\tremaining: 0us\n"
     ]
    },
    {
     "data": {
      "text/plain": [
       "<catboost.core.CatBoostRegressor at 0x7fdc4a1a9f40>"
      ]
     },
     "execution_count": 30,
     "metadata": {},
     "output_type": "execute_result"
    }
   ],
   "source": [
    "model_invest = CatBoostRegressor(loss_function='RMSE', depth=4, iterations=3, learning_rate=1.0)\n",
    "\n",
    "train_dataset = Pool(invest_train_X, invest_train_y)\n",
    "model_invest.fit(train_dataset)"
   ]
  },
  {
   "cell_type": "code",
   "execution_count": 31,
   "metadata": {},
   "outputs": [
    {
     "name": "stdout",
     "output_type": "stream",
     "text": [
      "0:\tlearn: 3426487.1846663\ttotal: 20ms\tremaining: 39.9ms\n",
      "1:\tlearn: 3010383.2869558\ttotal: 40.3ms\tremaining: 20.2ms\n",
      "2:\tlearn: 2679488.5117955\ttotal: 61.9ms\tremaining: 0us\n"
     ]
    },
    {
     "data": {
      "text/plain": [
       "<catboost.core.CatBoostRegressor at 0x7fdc4a1888e0>"
      ]
     },
     "execution_count": 31,
     "metadata": {},
     "output_type": "execute_result"
    }
   ],
   "source": [
    "model_owner = CatBoostRegressor(loss_function='RMSE', depth=4, iterations=3, learning_rate=1.0)\n",
    "\n",
    "train_dataset = Pool(owner_train_X, owner_train_y) \n",
    "model_owner.fit(train_dataset)"
   ]
  },
  {
   "cell_type": "code",
   "execution_count": 41,
   "metadata": {},
   "outputs": [],
   "source": [
    "invest_preds = model_invest.predict(test_dataset)\n",
    "owner_preds = model_owner.predict(test_dataset)\n",
    "\n",
    "preds = np.mean(np.array([invest_preds, owner_preds]), axis=0)"
   ]
  },
  {
   "cell_type": "code",
   "execution_count": 42,
   "metadata": {},
   "outputs": [
    {
     "name": "stdout",
     "output_type": "stream",
     "text": [
      "Invest: 3839614.597130152\n",
      "Owner: 5634685.0009084465\n"
     ]
    }
   ],
   "source": [
    "print('Invest:', mean_squared_error(y_test, invest_preds, squared=False))\n",
    "print('Owner:', mean_squared_error(y_test, owner_preds, squared=False))"
   ]
  },
  {
   "cell_type": "code",
   "execution_count": 43,
   "metadata": {},
   "outputs": [
    {
     "name": "stdout",
     "output_type": "stream",
     "text": [
      "Ensemble: 4102707.6930652736\n"
     ]
    }
   ],
   "source": [
    "print('Ensemble:', mean_squared_error(y_test, preds, squared=False))"
   ]
  },
  {
   "cell_type": "markdown",
   "metadata": {},
   "source": [
    "В нашем случае ансамбль показал себя хуже, чем обычная модель"
   ]
  },
  {
   "cell_type": "markdown",
   "metadata": {
    "id": "J8t-klaK2A6s"
   },
   "source": [
    "### (*) Ensemble v.2 (дополнительно, 2 балла)\n",
    "\n",
    "Попробуйте сделать для `Investment` более сложную модель: обучите `CatBoostRegressor` и `HuberRegressor` из `sklearn`, а затем сложите их предсказания с весами `w_1` и `w_2` (выберите веса сами; сумма весов равняется 1)."
   ]
  },
  {
   "cell_type": "code",
   "execution_count": 44,
   "metadata": {
    "id": "JOKD-l8HuOgM"
   },
   "outputs": [],
   "source": [
    "from sklearn.linear_model import HuberRegressor\n",
    "\n",
    "hub = HuberRegressor().fit(invest_train_X, invest_train_y)\n",
    "\n",
    "hub_preds = hub.predict(X_test)"
   ]
  },
  {
   "cell_type": "code",
   "execution_count": 45,
   "metadata": {},
   "outputs": [],
   "source": [
    "res = np.array([])\n",
    "weights = np.arange(0, 1.1, 0.1)\n",
    "\n",
    "for weight in weights:\n",
    "    preds = weight * invest_preds + (1 - weight) * hub_preds\n",
    "    \n",
    "    res = np.append(res, mean_squared_error(y_test, preds, squared=False))"
   ]
  },
  {
   "cell_type": "code",
   "execution_count": 46,
   "metadata": {},
   "outputs": [
    {
     "data": {
      "text/plain": [
       "Text(0, 0.5, 'Значение RMSE')"
      ]
     },
     "execution_count": 46,
     "metadata": {},
     "output_type": "execute_result"
    },
    {
     "data": {
      "image/png": "[encoded data removed]",
      "text/plain": [
       "<Figure size 1080x504 with 1 Axes>"
      ]
     },
     "metadata": {
      "needs_background": "light"
     },
     "output_type": "display_data"
    }
   ],
   "source": [
    "import matplotlib.pyplot as plt\n",
    "\n",
    "plt.figure(figsize=(15, 7))\n",
    "plt.plot(weights, res)\n",
    "plt.title('Зависимость RMSE от веса предсказания CatBoostRegressor')\n",
    "plt.xlabel('Вес')\n",
    "plt.ylabel('Значение RMSE')"
   ]
  },
  {
   "cell_type": "code",
   "execution_count": 47,
   "metadata": {},
   "outputs": [],
   "source": [
    "weight = weights[res.argmin()]"
   ]
  },
  {
   "cell_type": "code",
   "execution_count": 48,
   "metadata": {},
   "outputs": [
    {
     "name": "stdout",
     "output_type": "stream",
     "text": [
      "Ensemble: 3929351.3434320525\n"
     ]
    }
   ],
   "source": [
    "preds = np.mean(np.array([weight * invest_preds + (1 - weight) * hub_preds, owner_preds]), axis=0)\n",
    "print('Ensemble:', mean_squared_error(y_test, preds, squared=False))"
   ]
  },
  {
   "cell_type": "markdown",
   "metadata": {},
   "source": [
    "Получили чуть лучший результат, но ансамбль со взвешенными предсказаниями все равно уступает в качестве CatBoostRegressor"
   ]
  },
  {
   "cell_type": "markdown",
   "metadata": {},
   "source": [
    "Заметим, что модели, обучаемые только на Investment, дают еще более точные предсказания:"
   ]
  },
  {
   "cell_type": "code",
   "execution_count": 49,
   "metadata": {},
   "outputs": [
    {
     "name": "stdout",
     "output_type": "stream",
     "text": [
      "Ensemble: 3179377.29679904\n"
     ]
    }
   ],
   "source": [
    "print('Ensemble:', mean_squared_error(y_test, weight * invest_preds + (1 - weight) * hub_preds, squared=False))"
   ]
  }
 ],
 "metadata": {
  "colab": {
   "collapsed_sections": [],
   "name": "Task.ipynb",
   "provenance": []
  },
  "kernelspec": {
   "display_name": "Python 3 (ipykernel)",
   "language": "python",
   "name": "python3"
  },
  "language_info": {
   "codemirror_mode": {
    "name": "ipython",
    "version": 3
   },
   "file_extension": ".py",
   "mimetype": "text/x-python",
   "name": "python",
   "nbconvert_exporter": "python",
   "pygments_lexer": "ipython3",
   "version": "3.9.5"
  }
 },
 "nbformat": 4,
 "nbformat_minor": 1
}
